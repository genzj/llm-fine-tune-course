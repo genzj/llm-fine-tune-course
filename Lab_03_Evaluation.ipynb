{
  "nbformat": 4,
  "nbformat_minor": 0,
  "metadata": {
    "colab": {
      "provenance": [],
      "gpuType": "T4",
      "authorship_tag": "ABX9TyPUI/EftrJACeYwuIe/2mUo",
      "include_colab_link": true
    },
    "kernelspec": {
      "name": "python3",
      "display_name": "Python 3"
    },
    "language_info": {
      "name": "python"
    },
    "accelerator": "GPU",
    "widgets": {
      "application/vnd.jupyter.widget-state+json": {
        "15e9fa41985f4319b1b0d2f9767c53fc": {
          "model_module": "@jupyter-widgets/controls",
          "model_name": "HBoxModel",
          "model_module_version": "1.5.0",
          "state": {
            "_dom_classes": [],
            "_model_module": "@jupyter-widgets/controls",
            "_model_module_version": "1.5.0",
            "_model_name": "HBoxModel",
            "_view_count": null,
            "_view_module": "@jupyter-widgets/controls",
            "_view_module_version": "1.5.0",
            "_view_name": "HBoxView",
            "box_style": "",
            "children": [
              "IPY_MODEL_71572d384c384b1b88347629aa5e406d",
              "IPY_MODEL_4c929ff5a02e4226bd7c1f55e27a0baa",
              "IPY_MODEL_4c45d5bd5d47443ab91b877627cc680c"
            ],
            "layout": "IPY_MODEL_e638aaca33964b569aded31df61fc200"
          }
        },
        "71572d384c384b1b88347629aa5e406d": {
          "model_module": "@jupyter-widgets/controls",
          "model_name": "HTMLModel",
          "model_module_version": "1.5.0",
          "state": {
            "_dom_classes": [],
            "_model_module": "@jupyter-widgets/controls",
            "_model_module_version": "1.5.0",
            "_model_name": "HTMLModel",
            "_view_count": null,
            "_view_module": "@jupyter-widgets/controls",
            "_view_module_version": "1.5.0",
            "_view_name": "HTMLView",
            "description": "",
            "description_tooltip": null,
            "layout": "IPY_MODEL_b2442aaec92540d98f44e147302a4aa2",
            "placeholder": "​",
            "style": "IPY_MODEL_07cd7aff73494223b1cab3efd5258217",
            "value": "complete hellaswag-validation-validation.: 100%"
          }
        },
        "4c929ff5a02e4226bd7c1f55e27a0baa": {
          "model_module": "@jupyter-widgets/controls",
          "model_name": "FloatProgressModel",
          "model_module_version": "1.5.0",
          "state": {
            "_dom_classes": [],
            "_model_module": "@jupyter-widgets/controls",
            "_model_module_version": "1.5.0",
            "_model_name": "FloatProgressModel",
            "_view_count": null,
            "_view_module": "@jupyter-widgets/controls",
            "_view_module_version": "1.5.0",
            "_view_name": "ProgressView",
            "bar_style": "success",
            "description": "",
            "description_tooltip": null,
            "layout": "IPY_MODEL_78807e2ad3e141bfa7fb7382bd9e3331",
            "max": 1,
            "min": 0,
            "orientation": "horizontal",
            "style": "IPY_MODEL_6e121222f495446eb3e76b3b41724474",
            "value": 1
          }
        },
        "4c45d5bd5d47443ab91b877627cc680c": {
          "model_module": "@jupyter-widgets/controls",
          "model_name": "HTMLModel",
          "model_module_version": "1.5.0",
          "state": {
            "_dom_classes": [],
            "_model_module": "@jupyter-widgets/controls",
            "_model_module_version": "1.5.0",
            "_model_name": "HTMLModel",
            "_view_count": null,
            "_view_module": "@jupyter-widgets/controls",
            "_view_module_version": "1.5.0",
            "_view_name": "HTMLView",
            "description": "",
            "description_tooltip": null,
            "layout": "IPY_MODEL_13f4e1cfbf644f0496de050d3d5b84fb",
            "placeholder": "​",
            "style": "IPY_MODEL_a312ede2eadd4f23bcafbd1eebbd9281",
            "value": " 1/1 [1:41:40&lt;00:00, 6100.40s/it]"
          }
        },
        "e638aaca33964b569aded31df61fc200": {
          "model_module": "@jupyter-widgets/base",
          "model_name": "LayoutModel",
          "model_module_version": "1.2.0",
          "state": {
            "_model_module": "@jupyter-widgets/base",
            "_model_module_version": "1.2.0",
            "_model_name": "LayoutModel",
            "_view_count": null,
            "_view_module": "@jupyter-widgets/base",
            "_view_module_version": "1.2.0",
            "_view_name": "LayoutView",
            "align_content": null,
            "align_items": null,
            "align_self": null,
            "border": null,
            "bottom": null,
            "display": null,
            "flex": null,
            "flex_flow": null,
            "grid_area": null,
            "grid_auto_columns": null,
            "grid_auto_flow": null,
            "grid_auto_rows": null,
            "grid_column": null,
            "grid_gap": null,
            "grid_row": null,
            "grid_template_areas": null,
            "grid_template_columns": null,
            "grid_template_rows": null,
            "height": null,
            "justify_content": null,
            "justify_items": null,
            "left": null,
            "margin": null,
            "max_height": null,
            "max_width": null,
            "min_height": null,
            "min_width": null,
            "object_fit": null,
            "object_position": null,
            "order": null,
            "overflow": null,
            "overflow_x": null,
            "overflow_y": null,
            "padding": null,
            "right": null,
            "top": null,
            "visibility": null,
            "width": null
          }
        },
        "b2442aaec92540d98f44e147302a4aa2": {
          "model_module": "@jupyter-widgets/base",
          "model_name": "LayoutModel",
          "model_module_version": "1.2.0",
          "state": {
            "_model_module": "@jupyter-widgets/base",
            "_model_module_version": "1.2.0",
            "_model_name": "LayoutModel",
            "_view_count": null,
            "_view_module": "@jupyter-widgets/base",
            "_view_module_version": "1.2.0",
            "_view_name": "LayoutView",
            "align_content": null,
            "align_items": null,
            "align_self": null,
            "border": null,
            "bottom": null,
            "display": null,
            "flex": null,
            "flex_flow": null,
            "grid_area": null,
            "grid_auto_columns": null,
            "grid_auto_flow": null,
            "grid_auto_rows": null,
            "grid_column": null,
            "grid_gap": null,
            "grid_row": null,
            "grid_template_areas": null,
            "grid_template_columns": null,
            "grid_template_rows": null,
            "height": null,
            "justify_content": null,
            "justify_items": null,
            "left": null,
            "margin": null,
            "max_height": null,
            "max_width": null,
            "min_height": null,
            "min_width": null,
            "object_fit": null,
            "object_position": null,
            "order": null,
            "overflow": null,
            "overflow_x": null,
            "overflow_y": null,
            "padding": null,
            "right": null,
            "top": null,
            "visibility": null,
            "width": null
          }
        },
        "07cd7aff73494223b1cab3efd5258217": {
          "model_module": "@jupyter-widgets/controls",
          "model_name": "DescriptionStyleModel",
          "model_module_version": "1.5.0",
          "state": {
            "_model_module": "@jupyter-widgets/controls",
            "_model_module_version": "1.5.0",
            "_model_name": "DescriptionStyleModel",
            "_view_count": null,
            "_view_module": "@jupyter-widgets/base",
            "_view_module_version": "1.2.0",
            "_view_name": "StyleView",
            "description_width": ""
          }
        },
        "78807e2ad3e141bfa7fb7382bd9e3331": {
          "model_module": "@jupyter-widgets/base",
          "model_name": "LayoutModel",
          "model_module_version": "1.2.0",
          "state": {
            "_model_module": "@jupyter-widgets/base",
            "_model_module_version": "1.2.0",
            "_model_name": "LayoutModel",
            "_view_count": null,
            "_view_module": "@jupyter-widgets/base",
            "_view_module_version": "1.2.0",
            "_view_name": "LayoutView",
            "align_content": null,
            "align_items": null,
            "align_self": null,
            "border": null,
            "bottom": null,
            "display": null,
            "flex": null,
            "flex_flow": null,
            "grid_area": null,
            "grid_auto_columns": null,
            "grid_auto_flow": null,
            "grid_auto_rows": null,
            "grid_column": null,
            "grid_gap": null,
            "grid_row": null,
            "grid_template_areas": null,
            "grid_template_columns": null,
            "grid_template_rows": null,
            "height": null,
            "justify_content": null,
            "justify_items": null,
            "left": null,
            "margin": null,
            "max_height": null,
            "max_width": null,
            "min_height": null,
            "min_width": null,
            "object_fit": null,
            "object_position": null,
            "order": null,
            "overflow": null,
            "overflow_x": null,
            "overflow_y": null,
            "padding": null,
            "right": null,
            "top": null,
            "visibility": null,
            "width": null
          }
        },
        "6e121222f495446eb3e76b3b41724474": {
          "model_module": "@jupyter-widgets/controls",
          "model_name": "ProgressStyleModel",
          "model_module_version": "1.5.0",
          "state": {
            "_model_module": "@jupyter-widgets/controls",
            "_model_module_version": "1.5.0",
            "_model_name": "ProgressStyleModel",
            "_view_count": null,
            "_view_module": "@jupyter-widgets/base",
            "_view_module_version": "1.2.0",
            "_view_name": "StyleView",
            "bar_color": null,
            "description_width": ""
          }
        },
        "13f4e1cfbf644f0496de050d3d5b84fb": {
          "model_module": "@jupyter-widgets/base",
          "model_name": "LayoutModel",
          "model_module_version": "1.2.0",
          "state": {
            "_model_module": "@jupyter-widgets/base",
            "_model_module_version": "1.2.0",
            "_model_name": "LayoutModel",
            "_view_count": null,
            "_view_module": "@jupyter-widgets/base",
            "_view_module_version": "1.2.0",
            "_view_name": "LayoutView",
            "align_content": null,
            "align_items": null,
            "align_self": null,
            "border": null,
            "bottom": null,
            "display": null,
            "flex": null,
            "flex_flow": null,
            "grid_area": null,
            "grid_auto_columns": null,
            "grid_auto_flow": null,
            "grid_auto_rows": null,
            "grid_column": null,
            "grid_gap": null,
            "grid_row": null,
            "grid_template_areas": null,
            "grid_template_columns": null,
            "grid_template_rows": null,
            "height": null,
            "justify_content": null,
            "justify_items": null,
            "left": null,
            "margin": null,
            "max_height": null,
            "max_width": null,
            "min_height": null,
            "min_width": null,
            "object_fit": null,
            "object_position": null,
            "order": null,
            "overflow": null,
            "overflow_x": null,
            "overflow_y": null,
            "padding": null,
            "right": null,
            "top": null,
            "visibility": null,
            "width": null
          }
        },
        "a312ede2eadd4f23bcafbd1eebbd9281": {
          "model_module": "@jupyter-widgets/controls",
          "model_name": "DescriptionStyleModel",
          "model_module_version": "1.5.0",
          "state": {
            "_model_module": "@jupyter-widgets/controls",
            "_model_module_version": "1.5.0",
            "_model_name": "DescriptionStyleModel",
            "_view_count": null,
            "_view_module": "@jupyter-widgets/base",
            "_view_module_version": "1.2.0",
            "_view_name": "StyleView",
            "description_width": ""
          }
        },
        "d204075d20114c72b3bf424a5e28614d": {
          "model_module": "@jupyter-widgets/controls",
          "model_name": "HBoxModel",
          "model_module_version": "1.5.0",
          "state": {
            "_dom_classes": [],
            "_model_module": "@jupyter-widgets/controls",
            "_model_module_version": "1.5.0",
            "_model_name": "HBoxModel",
            "_view_count": null,
            "_view_module": "@jupyter-widgets/controls",
            "_view_module_version": "1.5.0",
            "_view_name": "HBoxView",
            "box_style": "",
            "children": [
              "IPY_MODEL_ab604f020a3046fb91ca652fb091f4a9",
              "IPY_MODEL_24311976beee4462932d10d3ec75c429",
              "IPY_MODEL_dfa70532b1524ffeb22b305938078517"
            ],
            "layout": "IPY_MODEL_3ca1a1dc576344bfb6e6a5bdf3b34382"
          }
        },
        "ab604f020a3046fb91ca652fb091f4a9": {
          "model_module": "@jupyter-widgets/controls",
          "model_name": "HTMLModel",
          "model_module_version": "1.5.0",
          "state": {
            "_dom_classes": [],
            "_model_module": "@jupyter-widgets/controls",
            "_model_module_version": "1.5.0",
            "_model_name": "HTMLModel",
            "_view_count": null,
            "_view_module": "@jupyter-widgets/controls",
            "_view_module_version": "1.5.0",
            "_view_name": "HTMLView",
            "description": "",
            "description_tooltip": null,
            "layout": "IPY_MODEL_ae4eaa522d9b47f0a573313184f77fba",
            "placeholder": "​",
            "style": "IPY_MODEL_12b092dd0c6747a18c51a8669b218b8a",
            "value": "Downloading builder script: 100%"
          }
        },
        "24311976beee4462932d10d3ec75c429": {
          "model_module": "@jupyter-widgets/controls",
          "model_name": "FloatProgressModel",
          "model_module_version": "1.5.0",
          "state": {
            "_dom_classes": [],
            "_model_module": "@jupyter-widgets/controls",
            "_model_module_version": "1.5.0",
            "_model_name": "FloatProgressModel",
            "_view_count": null,
            "_view_module": "@jupyter-widgets/controls",
            "_view_module_version": "1.5.0",
            "_view_name": "ProgressView",
            "bar_style": "success",
            "description": "",
            "description_tooltip": null,
            "layout": "IPY_MODEL_d3cf288e84ba4470a7b8a9a498b66237",
            "max": 7934,
            "min": 0,
            "orientation": "horizontal",
            "style": "IPY_MODEL_2bf649e4062f478a8331b47410ac1873",
            "value": 7934
          }
        },
        "dfa70532b1524ffeb22b305938078517": {
          "model_module": "@jupyter-widgets/controls",
          "model_name": "HTMLModel",
          "model_module_version": "1.5.0",
          "state": {
            "_dom_classes": [],
            "_model_module": "@jupyter-widgets/controls",
            "_model_module_version": "1.5.0",
            "_model_name": "HTMLModel",
            "_view_count": null,
            "_view_module": "@jupyter-widgets/controls",
            "_view_module_version": "1.5.0",
            "_view_name": "HTMLView",
            "description": "",
            "description_tooltip": null,
            "layout": "IPY_MODEL_9bcfe9084f644123b90b956166defbab",
            "placeholder": "​",
            "style": "IPY_MODEL_2414a07e29ff4eaba2e068cb63d971fe",
            "value": " 7.93k/7.93k [00:00&lt;00:00, 469kB/s]"
          }
        },
        "3ca1a1dc576344bfb6e6a5bdf3b34382": {
          "model_module": "@jupyter-widgets/base",
          "model_name": "LayoutModel",
          "model_module_version": "1.2.0",
          "state": {
            "_model_module": "@jupyter-widgets/base",
            "_model_module_version": "1.2.0",
            "_model_name": "LayoutModel",
            "_view_count": null,
            "_view_module": "@jupyter-widgets/base",
            "_view_module_version": "1.2.0",
            "_view_name": "LayoutView",
            "align_content": null,
            "align_items": null,
            "align_self": null,
            "border": null,
            "bottom": null,
            "display": null,
            "flex": null,
            "flex_flow": null,
            "grid_area": null,
            "grid_auto_columns": null,
            "grid_auto_flow": null,
            "grid_auto_rows": null,
            "grid_column": null,
            "grid_gap": null,
            "grid_row": null,
            "grid_template_areas": null,
            "grid_template_columns": null,
            "grid_template_rows": null,
            "height": null,
            "justify_content": null,
            "justify_items": null,
            "left": null,
            "margin": null,
            "max_height": null,
            "max_width": null,
            "min_height": null,
            "min_width": null,
            "object_fit": null,
            "object_position": null,
            "order": null,
            "overflow": null,
            "overflow_x": null,
            "overflow_y": null,
            "padding": null,
            "right": null,
            "top": null,
            "visibility": null,
            "width": null
          }
        },
        "ae4eaa522d9b47f0a573313184f77fba": {
          "model_module": "@jupyter-widgets/base",
          "model_name": "LayoutModel",
          "model_module_version": "1.2.0",
          "state": {
            "_model_module": "@jupyter-widgets/base",
            "_model_module_version": "1.2.0",
            "_model_name": "LayoutModel",
            "_view_count": null,
            "_view_module": "@jupyter-widgets/base",
            "_view_module_version": "1.2.0",
            "_view_name": "LayoutView",
            "align_content": null,
            "align_items": null,
            "align_self": null,
            "border": null,
            "bottom": null,
            "display": null,
            "flex": null,
            "flex_flow": null,
            "grid_area": null,
            "grid_auto_columns": null,
            "grid_auto_flow": null,
            "grid_auto_rows": null,
            "grid_column": null,
            "grid_gap": null,
            "grid_row": null,
            "grid_template_areas": null,
            "grid_template_columns": null,
            "grid_template_rows": null,
            "height": null,
            "justify_content": null,
            "justify_items": null,
            "left": null,
            "margin": null,
            "max_height": null,
            "max_width": null,
            "min_height": null,
            "min_width": null,
            "object_fit": null,
            "object_position": null,
            "order": null,
            "overflow": null,
            "overflow_x": null,
            "overflow_y": null,
            "padding": null,
            "right": null,
            "top": null,
            "visibility": null,
            "width": null
          }
        },
        "12b092dd0c6747a18c51a8669b218b8a": {
          "model_module": "@jupyter-widgets/controls",
          "model_name": "DescriptionStyleModel",
          "model_module_version": "1.5.0",
          "state": {
            "_model_module": "@jupyter-widgets/controls",
            "_model_module_version": "1.5.0",
            "_model_name": "DescriptionStyleModel",
            "_view_count": null,
            "_view_module": "@jupyter-widgets/base",
            "_view_module_version": "1.2.0",
            "_view_name": "StyleView",
            "description_width": ""
          }
        },
        "d3cf288e84ba4470a7b8a9a498b66237": {
          "model_module": "@jupyter-widgets/base",
          "model_name": "LayoutModel",
          "model_module_version": "1.2.0",
          "state": {
            "_model_module": "@jupyter-widgets/base",
            "_model_module_version": "1.2.0",
            "_model_name": "LayoutModel",
            "_view_count": null,
            "_view_module": "@jupyter-widgets/base",
            "_view_module_version": "1.2.0",
            "_view_name": "LayoutView",
            "align_content": null,
            "align_items": null,
            "align_self": null,
            "border": null,
            "bottom": null,
            "display": null,
            "flex": null,
            "flex_flow": null,
            "grid_area": null,
            "grid_auto_columns": null,
            "grid_auto_flow": null,
            "grid_auto_rows": null,
            "grid_column": null,
            "grid_gap": null,
            "grid_row": null,
            "grid_template_areas": null,
            "grid_template_columns": null,
            "grid_template_rows": null,
            "height": null,
            "justify_content": null,
            "justify_items": null,
            "left": null,
            "margin": null,
            "max_height": null,
            "max_width": null,
            "min_height": null,
            "min_width": null,
            "object_fit": null,
            "object_position": null,
            "order": null,
            "overflow": null,
            "overflow_x": null,
            "overflow_y": null,
            "padding": null,
            "right": null,
            "top": null,
            "visibility": null,
            "width": null
          }
        },
        "2bf649e4062f478a8331b47410ac1873": {
          "model_module": "@jupyter-widgets/controls",
          "model_name": "ProgressStyleModel",
          "model_module_version": "1.5.0",
          "state": {
            "_model_module": "@jupyter-widgets/controls",
            "_model_module_version": "1.5.0",
            "_model_name": "ProgressStyleModel",
            "_view_count": null,
            "_view_module": "@jupyter-widgets/base",
            "_view_module_version": "1.2.0",
            "_view_name": "StyleView",
            "bar_color": null,
            "description_width": ""
          }
        },
        "9bcfe9084f644123b90b956166defbab": {
          "model_module": "@jupyter-widgets/base",
          "model_name": "LayoutModel",
          "model_module_version": "1.2.0",
          "state": {
            "_model_module": "@jupyter-widgets/base",
            "_model_module_version": "1.2.0",
            "_model_name": "LayoutModel",
            "_view_count": null,
            "_view_module": "@jupyter-widgets/base",
            "_view_module_version": "1.2.0",
            "_view_name": "LayoutView",
            "align_content": null,
            "align_items": null,
            "align_self": null,
            "border": null,
            "bottom": null,
            "display": null,
            "flex": null,
            "flex_flow": null,
            "grid_area": null,
            "grid_auto_columns": null,
            "grid_auto_flow": null,
            "grid_auto_rows": null,
            "grid_column": null,
            "grid_gap": null,
            "grid_row": null,
            "grid_template_areas": null,
            "grid_template_columns": null,
            "grid_template_rows": null,
            "height": null,
            "justify_content": null,
            "justify_items": null,
            "left": null,
            "margin": null,
            "max_height": null,
            "max_width": null,
            "min_height": null,
            "min_width": null,
            "object_fit": null,
            "object_position": null,
            "order": null,
            "overflow": null,
            "overflow_x": null,
            "overflow_y": null,
            "padding": null,
            "right": null,
            "top": null,
            "visibility": null,
            "width": null
          }
        },
        "2414a07e29ff4eaba2e068cb63d971fe": {
          "model_module": "@jupyter-widgets/controls",
          "model_name": "DescriptionStyleModel",
          "model_module_version": "1.5.0",
          "state": {
            "_model_module": "@jupyter-widgets/controls",
            "_model_module_version": "1.5.0",
            "_model_name": "DescriptionStyleModel",
            "_view_count": null,
            "_view_module": "@jupyter-widgets/base",
            "_view_module_version": "1.2.0",
            "_view_name": "StyleView",
            "description_width": ""
          }
        },
        "b480f3753fe64f11a1c84ba53806f824": {
          "model_module": "@jupyter-widgets/controls",
          "model_name": "HBoxModel",
          "model_module_version": "1.5.0",
          "state": {
            "_dom_classes": [],
            "_model_module": "@jupyter-widgets/controls",
            "_model_module_version": "1.5.0",
            "_model_name": "HBoxModel",
            "_view_count": null,
            "_view_module": "@jupyter-widgets/controls",
            "_view_module_version": "1.5.0",
            "_view_name": "HBoxView",
            "box_style": "",
            "children": [
              "IPY_MODEL_1d3a641792424901b4d024997f420eff",
              "IPY_MODEL_e60f05bfcdd749adac7ff712c72cdf6c",
              "IPY_MODEL_eb7634ad08b6475a95e23be542781bfa"
            ],
            "layout": "IPY_MODEL_a10e262762d74c51858071a3f0fd4b08"
          }
        },
        "1d3a641792424901b4d024997f420eff": {
          "model_module": "@jupyter-widgets/controls",
          "model_name": "HTMLModel",
          "model_module_version": "1.5.0",
          "state": {
            "_dom_classes": [],
            "_model_module": "@jupyter-widgets/controls",
            "_model_module_version": "1.5.0",
            "_model_name": "HTMLModel",
            "_view_count": null,
            "_view_module": "@jupyter-widgets/controls",
            "_view_module_version": "1.5.0",
            "_view_name": "HTMLView",
            "description": "",
            "description_tooltip": null,
            "layout": "IPY_MODEL_0cda843b86424b438dae35a4ccf212ec",
            "placeholder": "​",
            "style": "IPY_MODEL_a2151de9c80d4425b9117fba1b075f7f",
            "value": "Downloading extra modules: 100%"
          }
        },
        "e60f05bfcdd749adac7ff712c72cdf6c": {
          "model_module": "@jupyter-widgets/controls",
          "model_name": "FloatProgressModel",
          "model_module_version": "1.5.0",
          "state": {
            "_dom_classes": [],
            "_model_module": "@jupyter-widgets/controls",
            "_model_module_version": "1.5.0",
            "_model_name": "FloatProgressModel",
            "_view_count": null,
            "_view_module": "@jupyter-widgets/controls",
            "_view_module_version": "1.5.0",
            "_view_name": "ProgressView",
            "bar_style": "success",
            "description": "",
            "description_tooltip": null,
            "layout": "IPY_MODEL_87eba6c17af74c779c8fee6da1a3b8c6",
            "max": 38986,
            "min": 0,
            "orientation": "horizontal",
            "style": "IPY_MODEL_f90194aeb16a446d8332669c65d3af90",
            "value": 38986
          }
        },
        "eb7634ad08b6475a95e23be542781bfa": {
          "model_module": "@jupyter-widgets/controls",
          "model_name": "HTMLModel",
          "model_module_version": "1.5.0",
          "state": {
            "_dom_classes": [],
            "_model_module": "@jupyter-widgets/controls",
            "_model_module_version": "1.5.0",
            "_model_name": "HTMLModel",
            "_view_count": null,
            "_view_module": "@jupyter-widgets/controls",
            "_view_module_version": "1.5.0",
            "_view_name": "HTMLView",
            "description": "",
            "description_tooltip": null,
            "layout": "IPY_MODEL_b3310437c0014806beea6f183dc8a7eb",
            "placeholder": "​",
            "style": "IPY_MODEL_94b8169f57d643cb8dcf586efe7abe8b",
            "value": " 39.0k/39.0k [00:00&lt;00:00, 1.71MB/s]"
          }
        },
        "a10e262762d74c51858071a3f0fd4b08": {
          "model_module": "@jupyter-widgets/base",
          "model_name": "LayoutModel",
          "model_module_version": "1.2.0",
          "state": {
            "_model_module": "@jupyter-widgets/base",
            "_model_module_version": "1.2.0",
            "_model_name": "LayoutModel",
            "_view_count": null,
            "_view_module": "@jupyter-widgets/base",
            "_view_module_version": "1.2.0",
            "_view_name": "LayoutView",
            "align_content": null,
            "align_items": null,
            "align_self": null,
            "border": null,
            "bottom": null,
            "display": null,
            "flex": null,
            "flex_flow": null,
            "grid_area": null,
            "grid_auto_columns": null,
            "grid_auto_flow": null,
            "grid_auto_rows": null,
            "grid_column": null,
            "grid_gap": null,
            "grid_row": null,
            "grid_template_areas": null,
            "grid_template_columns": null,
            "grid_template_rows": null,
            "height": null,
            "justify_content": null,
            "justify_items": null,
            "left": null,
            "margin": null,
            "max_height": null,
            "max_width": null,
            "min_height": null,
            "min_width": null,
            "object_fit": null,
            "object_position": null,
            "order": null,
            "overflow": null,
            "overflow_x": null,
            "overflow_y": null,
            "padding": null,
            "right": null,
            "top": null,
            "visibility": null,
            "width": null
          }
        },
        "0cda843b86424b438dae35a4ccf212ec": {
          "model_module": "@jupyter-widgets/base",
          "model_name": "LayoutModel",
          "model_module_version": "1.2.0",
          "state": {
            "_model_module": "@jupyter-widgets/base",
            "_model_module_version": "1.2.0",
            "_model_name": "LayoutModel",
            "_view_count": null,
            "_view_module": "@jupyter-widgets/base",
            "_view_module_version": "1.2.0",
            "_view_name": "LayoutView",
            "align_content": null,
            "align_items": null,
            "align_self": null,
            "border": null,
            "bottom": null,
            "display": null,
            "flex": null,
            "flex_flow": null,
            "grid_area": null,
            "grid_auto_columns": null,
            "grid_auto_flow": null,
            "grid_auto_rows": null,
            "grid_column": null,
            "grid_gap": null,
            "grid_row": null,
            "grid_template_areas": null,
            "grid_template_columns": null,
            "grid_template_rows": null,
            "height": null,
            "justify_content": null,
            "justify_items": null,
            "left": null,
            "margin": null,
            "max_height": null,
            "max_width": null,
            "min_height": null,
            "min_width": null,
            "object_fit": null,
            "object_position": null,
            "order": null,
            "overflow": null,
            "overflow_x": null,
            "overflow_y": null,
            "padding": null,
            "right": null,
            "top": null,
            "visibility": null,
            "width": null
          }
        },
        "a2151de9c80d4425b9117fba1b075f7f": {
          "model_module": "@jupyter-widgets/controls",
          "model_name": "DescriptionStyleModel",
          "model_module_version": "1.5.0",
          "state": {
            "_model_module": "@jupyter-widgets/controls",
            "_model_module_version": "1.5.0",
            "_model_name": "DescriptionStyleModel",
            "_view_count": null,
            "_view_module": "@jupyter-widgets/base",
            "_view_module_version": "1.2.0",
            "_view_name": "StyleView",
            "description_width": ""
          }
        },
        "87eba6c17af74c779c8fee6da1a3b8c6": {
          "model_module": "@jupyter-widgets/base",
          "model_name": "LayoutModel",
          "model_module_version": "1.2.0",
          "state": {
            "_model_module": "@jupyter-widgets/base",
            "_model_module_version": "1.2.0",
            "_model_name": "LayoutModel",
            "_view_count": null,
            "_view_module": "@jupyter-widgets/base",
            "_view_module_version": "1.2.0",
            "_view_name": "LayoutView",
            "align_content": null,
            "align_items": null,
            "align_self": null,
            "border": null,
            "bottom": null,
            "display": null,
            "flex": null,
            "flex_flow": null,
            "grid_area": null,
            "grid_auto_columns": null,
            "grid_auto_flow": null,
            "grid_auto_rows": null,
            "grid_column": null,
            "grid_gap": null,
            "grid_row": null,
            "grid_template_areas": null,
            "grid_template_columns": null,
            "grid_template_rows": null,
            "height": null,
            "justify_content": null,
            "justify_items": null,
            "left": null,
            "margin": null,
            "max_height": null,
            "max_width": null,
            "min_height": null,
            "min_width": null,
            "object_fit": null,
            "object_position": null,
            "order": null,
            "overflow": null,
            "overflow_x": null,
            "overflow_y": null,
            "padding": null,
            "right": null,
            "top": null,
            "visibility": null,
            "width": null
          }
        },
        "f90194aeb16a446d8332669c65d3af90": {
          "model_module": "@jupyter-widgets/controls",
          "model_name": "ProgressStyleModel",
          "model_module_version": "1.5.0",
          "state": {
            "_model_module": "@jupyter-widgets/controls",
            "_model_module_version": "1.5.0",
            "_model_name": "ProgressStyleModel",
            "_view_count": null,
            "_view_module": "@jupyter-widgets/base",
            "_view_module_version": "1.2.0",
            "_view_name": "StyleView",
            "bar_color": null,
            "description_width": ""
          }
        },
        "b3310437c0014806beea6f183dc8a7eb": {
          "model_module": "@jupyter-widgets/base",
          "model_name": "LayoutModel",
          "model_module_version": "1.2.0",
          "state": {
            "_model_module": "@jupyter-widgets/base",
            "_model_module_version": "1.2.0",
            "_model_name": "LayoutModel",
            "_view_count": null,
            "_view_module": "@jupyter-widgets/base",
            "_view_module_version": "1.2.0",
            "_view_name": "LayoutView",
            "align_content": null,
            "align_items": null,
            "align_self": null,
            "border": null,
            "bottom": null,
            "display": null,
            "flex": null,
            "flex_flow": null,
            "grid_area": null,
            "grid_auto_columns": null,
            "grid_auto_flow": null,
            "grid_auto_rows": null,
            "grid_column": null,
            "grid_gap": null,
            "grid_row": null,
            "grid_template_areas": null,
            "grid_template_columns": null,
            "grid_template_rows": null,
            "height": null,
            "justify_content": null,
            "justify_items": null,
            "left": null,
            "margin": null,
            "max_height": null,
            "max_width": null,
            "min_height": null,
            "min_width": null,
            "object_fit": null,
            "object_position": null,
            "order": null,
            "overflow": null,
            "overflow_x": null,
            "overflow_y": null,
            "padding": null,
            "right": null,
            "top": null,
            "visibility": null,
            "width": null
          }
        },
        "94b8169f57d643cb8dcf586efe7abe8b": {
          "model_module": "@jupyter-widgets/controls",
          "model_name": "DescriptionStyleModel",
          "model_module_version": "1.5.0",
          "state": {
            "_model_module": "@jupyter-widgets/controls",
            "_model_module_version": "1.5.0",
            "_model_name": "DescriptionStyleModel",
            "_view_count": null,
            "_view_module": "@jupyter-widgets/base",
            "_view_module_version": "1.2.0",
            "_view_name": "StyleView",
            "description_width": ""
          }
        },
        "6ac08cd89d504a69a8c46d0ae0278cca": {
          "model_module": "@jupyter-widgets/controls",
          "model_name": "HBoxModel",
          "model_module_version": "1.5.0",
          "state": {
            "_dom_classes": [],
            "_model_module": "@jupyter-widgets/controls",
            "_model_module_version": "1.5.0",
            "_model_name": "HBoxModel",
            "_view_count": null,
            "_view_module": "@jupyter-widgets/controls",
            "_view_module_version": "1.5.0",
            "_view_name": "HBoxView",
            "box_style": "",
            "children": [
              "IPY_MODEL_487ddfe58b7a475a8e1555d406a7b1a9",
              "IPY_MODEL_16ee3f6ac7dd42e89f59aeb2178ed29f",
              "IPY_MODEL_8810abb9c3f9455aa5be75c5e606b339"
            ],
            "layout": "IPY_MODEL_d7af185d2c9e412a8e459144400fe725"
          }
        },
        "487ddfe58b7a475a8e1555d406a7b1a9": {
          "model_module": "@jupyter-widgets/controls",
          "model_name": "HTMLModel",
          "model_module_version": "1.5.0",
          "state": {
            "_dom_classes": [],
            "_model_module": "@jupyter-widgets/controls",
            "_model_module_version": "1.5.0",
            "_model_name": "HTMLModel",
            "_view_count": null,
            "_view_module": "@jupyter-widgets/controls",
            "_view_module_version": "1.5.0",
            "_view_name": "HTMLView",
            "description": "",
            "description_tooltip": null,
            "layout": "IPY_MODEL_60c6380b754747a39dc86b7e13cc8d4d",
            "placeholder": "​",
            "style": "IPY_MODEL_11a5745d58654442b70cf41253c2a2fe",
            "value": "Downloading extra modules: 100%"
          }
        },
        "16ee3f6ac7dd42e89f59aeb2178ed29f": {
          "model_module": "@jupyter-widgets/controls",
          "model_name": "FloatProgressModel",
          "model_module_version": "1.5.0",
          "state": {
            "_dom_classes": [],
            "_model_module": "@jupyter-widgets/controls",
            "_model_module_version": "1.5.0",
            "_model_name": "FloatProgressModel",
            "_view_count": null,
            "_view_module": "@jupyter-widgets/controls",
            "_view_module_version": "1.5.0",
            "_view_name": "ProgressView",
            "bar_style": "success",
            "description": "",
            "description_tooltip": null,
            "layout": "IPY_MODEL_8d72c3e5745a4b7c9a0f82f46df9b8e5",
            "max": 83696,
            "min": 0,
            "orientation": "horizontal",
            "style": "IPY_MODEL_d9c42f95a42d438e8a365fb4dd49427e",
            "value": 83696
          }
        },
        "8810abb9c3f9455aa5be75c5e606b339": {
          "model_module": "@jupyter-widgets/controls",
          "model_name": "HTMLModel",
          "model_module_version": "1.5.0",
          "state": {
            "_dom_classes": [],
            "_model_module": "@jupyter-widgets/controls",
            "_model_module_version": "1.5.0",
            "_model_name": "HTMLModel",
            "_view_count": null,
            "_view_module": "@jupyter-widgets/controls",
            "_view_module_version": "1.5.0",
            "_view_name": "HTMLView",
            "description": "",
            "description_tooltip": null,
            "layout": "IPY_MODEL_2ea89eb6fa6a43f6aa84b4392ce96880",
            "placeholder": "​",
            "style": "IPY_MODEL_49a9143db5f744e9b8c1b59b1892aff0",
            "value": " 83.7k/83.7k [00:00&lt;00:00, 2.55MB/s]"
          }
        },
        "d7af185d2c9e412a8e459144400fe725": {
          "model_module": "@jupyter-widgets/base",
          "model_name": "LayoutModel",
          "model_module_version": "1.2.0",
          "state": {
            "_model_module": "@jupyter-widgets/base",
            "_model_module_version": "1.2.0",
            "_model_name": "LayoutModel",
            "_view_count": null,
            "_view_module": "@jupyter-widgets/base",
            "_view_module_version": "1.2.0",
            "_view_name": "LayoutView",
            "align_content": null,
            "align_items": null,
            "align_self": null,
            "border": null,
            "bottom": null,
            "display": null,
            "flex": null,
            "flex_flow": null,
            "grid_area": null,
            "grid_auto_columns": null,
            "grid_auto_flow": null,
            "grid_auto_rows": null,
            "grid_column": null,
            "grid_gap": null,
            "grid_row": null,
            "grid_template_areas": null,
            "grid_template_columns": null,
            "grid_template_rows": null,
            "height": null,
            "justify_content": null,
            "justify_items": null,
            "left": null,
            "margin": null,
            "max_height": null,
            "max_width": null,
            "min_height": null,
            "min_width": null,
            "object_fit": null,
            "object_position": null,
            "order": null,
            "overflow": null,
            "overflow_x": null,
            "overflow_y": null,
            "padding": null,
            "right": null,
            "top": null,
            "visibility": null,
            "width": null
          }
        },
        "60c6380b754747a39dc86b7e13cc8d4d": {
          "model_module": "@jupyter-widgets/base",
          "model_name": "LayoutModel",
          "model_module_version": "1.2.0",
          "state": {
            "_model_module": "@jupyter-widgets/base",
            "_model_module_version": "1.2.0",
            "_model_name": "LayoutModel",
            "_view_count": null,
            "_view_module": "@jupyter-widgets/base",
            "_view_module_version": "1.2.0",
            "_view_name": "LayoutView",
            "align_content": null,
            "align_items": null,
            "align_self": null,
            "border": null,
            "bottom": null,
            "display": null,
            "flex": null,
            "flex_flow": null,
            "grid_area": null,
            "grid_auto_columns": null,
            "grid_auto_flow": null,
            "grid_auto_rows": null,
            "grid_column": null,
            "grid_gap": null,
            "grid_row": null,
            "grid_template_areas": null,
            "grid_template_columns": null,
            "grid_template_rows": null,
            "height": null,
            "justify_content": null,
            "justify_items": null,
            "left": null,
            "margin": null,
            "max_height": null,
            "max_width": null,
            "min_height": null,
            "min_width": null,
            "object_fit": null,
            "object_position": null,
            "order": null,
            "overflow": null,
            "overflow_x": null,
            "overflow_y": null,
            "padding": null,
            "right": null,
            "top": null,
            "visibility": null,
            "width": null
          }
        },
        "11a5745d58654442b70cf41253c2a2fe": {
          "model_module": "@jupyter-widgets/controls",
          "model_name": "DescriptionStyleModel",
          "model_module_version": "1.5.0",
          "state": {
            "_model_module": "@jupyter-widgets/controls",
            "_model_module_version": "1.5.0",
            "_model_name": "DescriptionStyleModel",
            "_view_count": null,
            "_view_module": "@jupyter-widgets/base",
            "_view_module_version": "1.2.0",
            "_view_name": "StyleView",
            "description_width": ""
          }
        },
        "8d72c3e5745a4b7c9a0f82f46df9b8e5": {
          "model_module": "@jupyter-widgets/base",
          "model_name": "LayoutModel",
          "model_module_version": "1.2.0",
          "state": {
            "_model_module": "@jupyter-widgets/base",
            "_model_module_version": "1.2.0",
            "_model_name": "LayoutModel",
            "_view_count": null,
            "_view_module": "@jupyter-widgets/base",
            "_view_module_version": "1.2.0",
            "_view_name": "LayoutView",
            "align_content": null,
            "align_items": null,
            "align_self": null,
            "border": null,
            "bottom": null,
            "display": null,
            "flex": null,
            "flex_flow": null,
            "grid_area": null,
            "grid_auto_columns": null,
            "grid_auto_flow": null,
            "grid_auto_rows": null,
            "grid_column": null,
            "grid_gap": null,
            "grid_row": null,
            "grid_template_areas": null,
            "grid_template_columns": null,
            "grid_template_rows": null,
            "height": null,
            "justify_content": null,
            "justify_items": null,
            "left": null,
            "margin": null,
            "max_height": null,
            "max_width": null,
            "min_height": null,
            "min_width": null,
            "object_fit": null,
            "object_position": null,
            "order": null,
            "overflow": null,
            "overflow_x": null,
            "overflow_y": null,
            "padding": null,
            "right": null,
            "top": null,
            "visibility": null,
            "width": null
          }
        },
        "d9c42f95a42d438e8a365fb4dd49427e": {
          "model_module": "@jupyter-widgets/controls",
          "model_name": "ProgressStyleModel",
          "model_module_version": "1.5.0",
          "state": {
            "_model_module": "@jupyter-widgets/controls",
            "_model_module_version": "1.5.0",
            "_model_name": "ProgressStyleModel",
            "_view_count": null,
            "_view_module": "@jupyter-widgets/base",
            "_view_module_version": "1.2.0",
            "_view_name": "StyleView",
            "bar_color": null,
            "description_width": ""
          }
        },
        "2ea89eb6fa6a43f6aa84b4392ce96880": {
          "model_module": "@jupyter-widgets/base",
          "model_name": "LayoutModel",
          "model_module_version": "1.2.0",
          "state": {
            "_model_module": "@jupyter-widgets/base",
            "_model_module_version": "1.2.0",
            "_model_name": "LayoutModel",
            "_view_count": null,
            "_view_module": "@jupyter-widgets/base",
            "_view_module_version": "1.2.0",
            "_view_name": "LayoutView",
            "align_content": null,
            "align_items": null,
            "align_self": null,
            "border": null,
            "bottom": null,
            "display": null,
            "flex": null,
            "flex_flow": null,
            "grid_area": null,
            "grid_auto_columns": null,
            "grid_auto_flow": null,
            "grid_auto_rows": null,
            "grid_column": null,
            "grid_gap": null,
            "grid_row": null,
            "grid_template_areas": null,
            "grid_template_columns": null,
            "grid_template_rows": null,
            "height": null,
            "justify_content": null,
            "justify_items": null,
            "left": null,
            "margin": null,
            "max_height": null,
            "max_width": null,
            "min_height": null,
            "min_width": null,
            "object_fit": null,
            "object_position": null,
            "order": null,
            "overflow": null,
            "overflow_x": null,
            "overflow_y": null,
            "padding": null,
            "right": null,
            "top": null,
            "visibility": null,
            "width": null
          }
        },
        "49a9143db5f744e9b8c1b59b1892aff0": {
          "model_module": "@jupyter-widgets/controls",
          "model_name": "DescriptionStyleModel",
          "model_module_version": "1.5.0",
          "state": {
            "_model_module": "@jupyter-widgets/controls",
            "_model_module_version": "1.5.0",
            "_model_name": "DescriptionStyleModel",
            "_view_count": null,
            "_view_module": "@jupyter-widgets/base",
            "_view_module_version": "1.2.0",
            "_view_name": "StyleView",
            "description_width": ""
          }
        },
        "e91b4a19923a46c09610c310bb35f08d": {
          "model_module": "@jupyter-widgets/controls",
          "model_name": "HBoxModel",
          "model_module_version": "1.5.0",
          "state": {
            "_dom_classes": [],
            "_model_module": "@jupyter-widgets/controls",
            "_model_module_version": "1.5.0",
            "_model_name": "HBoxModel",
            "_view_count": null,
            "_view_module": "@jupyter-widgets/controls",
            "_view_module_version": "1.5.0",
            "_view_name": "HBoxView",
            "box_style": "",
            "children": [
              "IPY_MODEL_bb8ab92d76b749f385db0133c4dd34c9",
              "IPY_MODEL_b18f2696e3ce4c9b9c166cae70aa1a0d",
              "IPY_MODEL_b54a48c7606444949023a9a0b96a2a1f"
            ],
            "layout": "IPY_MODEL_b2aff9c92dd74c69afd16c89b30833eb"
          }
        },
        "bb8ab92d76b749f385db0133c4dd34c9": {
          "model_module": "@jupyter-widgets/controls",
          "model_name": "HTMLModel",
          "model_module_version": "1.5.0",
          "state": {
            "_dom_classes": [],
            "_model_module": "@jupyter-widgets/controls",
            "_model_module_version": "1.5.0",
            "_model_name": "HTMLModel",
            "_view_count": null,
            "_view_module": "@jupyter-widgets/controls",
            "_view_module_version": "1.5.0",
            "_view_name": "HTMLView",
            "description": "",
            "description_tooltip": null,
            "layout": "IPY_MODEL_af1c1ab356fd4dd393d0976eb321d8a8",
            "placeholder": "​",
            "style": "IPY_MODEL_f70c23edf11b443ebb97bc772ab79c89",
            "value": "100%"
          }
        },
        "b18f2696e3ce4c9b9c166cae70aa1a0d": {
          "model_module": "@jupyter-widgets/controls",
          "model_name": "FloatProgressModel",
          "model_module_version": "1.5.0",
          "state": {
            "_dom_classes": [],
            "_model_module": "@jupyter-widgets/controls",
            "_model_module_version": "1.5.0",
            "_model_name": "FloatProgressModel",
            "_view_count": null,
            "_view_module": "@jupyter-widgets/controls",
            "_view_module_version": "1.5.0",
            "_view_name": "ProgressView",
            "bar_style": "success",
            "description": "",
            "description_tooltip": null,
            "layout": "IPY_MODEL_7d723250ef104821a8a1e5ae9090e377",
            "max": 3,
            "min": 0,
            "orientation": "horizontal",
            "style": "IPY_MODEL_a0222a5cea154931a0dcf7e080904124",
            "value": 3
          }
        },
        "b54a48c7606444949023a9a0b96a2a1f": {
          "model_module": "@jupyter-widgets/controls",
          "model_name": "HTMLModel",
          "model_module_version": "1.5.0",
          "state": {
            "_dom_classes": [],
            "_model_module": "@jupyter-widgets/controls",
            "_model_module_version": "1.5.0",
            "_model_name": "HTMLModel",
            "_view_count": null,
            "_view_module": "@jupyter-widgets/controls",
            "_view_module_version": "1.5.0",
            "_view_name": "HTMLView",
            "description": "",
            "description_tooltip": null,
            "layout": "IPY_MODEL_5696acbf0ebb4ebc8eefa87b955d7e47",
            "placeholder": "​",
            "style": "IPY_MODEL_9732c5f0176f44d0a8289302b64e32c2",
            "value": " 3/3 [00:00&lt;00:00,  2.90it/s]"
          }
        },
        "b2aff9c92dd74c69afd16c89b30833eb": {
          "model_module": "@jupyter-widgets/base",
          "model_name": "LayoutModel",
          "model_module_version": "1.2.0",
          "state": {
            "_model_module": "@jupyter-widgets/base",
            "_model_module_version": "1.2.0",
            "_model_name": "LayoutModel",
            "_view_count": null,
            "_view_module": "@jupyter-widgets/base",
            "_view_module_version": "1.2.0",
            "_view_name": "LayoutView",
            "align_content": null,
            "align_items": null,
            "align_self": null,
            "border": null,
            "bottom": null,
            "display": null,
            "flex": null,
            "flex_flow": null,
            "grid_area": null,
            "grid_auto_columns": null,
            "grid_auto_flow": null,
            "grid_auto_rows": null,
            "grid_column": null,
            "grid_gap": null,
            "grid_row": null,
            "grid_template_areas": null,
            "grid_template_columns": null,
            "grid_template_rows": null,
            "height": null,
            "justify_content": null,
            "justify_items": null,
            "left": null,
            "margin": null,
            "max_height": null,
            "max_width": null,
            "min_height": null,
            "min_width": null,
            "object_fit": null,
            "object_position": null,
            "order": null,
            "overflow": null,
            "overflow_x": null,
            "overflow_y": null,
            "padding": null,
            "right": null,
            "top": null,
            "visibility": null,
            "width": null
          }
        },
        "af1c1ab356fd4dd393d0976eb321d8a8": {
          "model_module": "@jupyter-widgets/base",
          "model_name": "LayoutModel",
          "model_module_version": "1.2.0",
          "state": {
            "_model_module": "@jupyter-widgets/base",
            "_model_module_version": "1.2.0",
            "_model_name": "LayoutModel",
            "_view_count": null,
            "_view_module": "@jupyter-widgets/base",
            "_view_module_version": "1.2.0",
            "_view_name": "LayoutView",
            "align_content": null,
            "align_items": null,
            "align_self": null,
            "border": null,
            "bottom": null,
            "display": null,
            "flex": null,
            "flex_flow": null,
            "grid_area": null,
            "grid_auto_columns": null,
            "grid_auto_flow": null,
            "grid_auto_rows": null,
            "grid_column": null,
            "grid_gap": null,
            "grid_row": null,
            "grid_template_areas": null,
            "grid_template_columns": null,
            "grid_template_rows": null,
            "height": null,
            "justify_content": null,
            "justify_items": null,
            "left": null,
            "margin": null,
            "max_height": null,
            "max_width": null,
            "min_height": null,
            "min_width": null,
            "object_fit": null,
            "object_position": null,
            "order": null,
            "overflow": null,
            "overflow_x": null,
            "overflow_y": null,
            "padding": null,
            "right": null,
            "top": null,
            "visibility": null,
            "width": null
          }
        },
        "f70c23edf11b443ebb97bc772ab79c89": {
          "model_module": "@jupyter-widgets/controls",
          "model_name": "DescriptionStyleModel",
          "model_module_version": "1.5.0",
          "state": {
            "_model_module": "@jupyter-widgets/controls",
            "_model_module_version": "1.5.0",
            "_model_name": "DescriptionStyleModel",
            "_view_count": null,
            "_view_module": "@jupyter-widgets/base",
            "_view_module_version": "1.2.0",
            "_view_name": "StyleView",
            "description_width": ""
          }
        },
        "7d723250ef104821a8a1e5ae9090e377": {
          "model_module": "@jupyter-widgets/base",
          "model_name": "LayoutModel",
          "model_module_version": "1.2.0",
          "state": {
            "_model_module": "@jupyter-widgets/base",
            "_model_module_version": "1.2.0",
            "_model_name": "LayoutModel",
            "_view_count": null,
            "_view_module": "@jupyter-widgets/base",
            "_view_module_version": "1.2.0",
            "_view_name": "LayoutView",
            "align_content": null,
            "align_items": null,
            "align_self": null,
            "border": null,
            "bottom": null,
            "display": null,
            "flex": null,
            "flex_flow": null,
            "grid_area": null,
            "grid_auto_columns": null,
            "grid_auto_flow": null,
            "grid_auto_rows": null,
            "grid_column": null,
            "grid_gap": null,
            "grid_row": null,
            "grid_template_areas": null,
            "grid_template_columns": null,
            "grid_template_rows": null,
            "height": null,
            "justify_content": null,
            "justify_items": null,
            "left": null,
            "margin": null,
            "max_height": null,
            "max_width": null,
            "min_height": null,
            "min_width": null,
            "object_fit": null,
            "object_position": null,
            "order": null,
            "overflow": null,
            "overflow_x": null,
            "overflow_y": null,
            "padding": null,
            "right": null,
            "top": null,
            "visibility": null,
            "width": null
          }
        },
        "a0222a5cea154931a0dcf7e080904124": {
          "model_module": "@jupyter-widgets/controls",
          "model_name": "ProgressStyleModel",
          "model_module_version": "1.5.0",
          "state": {
            "_model_module": "@jupyter-widgets/controls",
            "_model_module_version": "1.5.0",
            "_model_name": "ProgressStyleModel",
            "_view_count": null,
            "_view_module": "@jupyter-widgets/base",
            "_view_module_version": "1.2.0",
            "_view_name": "StyleView",
            "bar_color": null,
            "description_width": ""
          }
        },
        "5696acbf0ebb4ebc8eefa87b955d7e47": {
          "model_module": "@jupyter-widgets/base",
          "model_name": "LayoutModel",
          "model_module_version": "1.2.0",
          "state": {
            "_model_module": "@jupyter-widgets/base",
            "_model_module_version": "1.2.0",
            "_model_name": "LayoutModel",
            "_view_count": null,
            "_view_module": "@jupyter-widgets/base",
            "_view_module_version": "1.2.0",
            "_view_name": "LayoutView",
            "align_content": null,
            "align_items": null,
            "align_self": null,
            "border": null,
            "bottom": null,
            "display": null,
            "flex": null,
            "flex_flow": null,
            "grid_area": null,
            "grid_auto_columns": null,
            "grid_auto_flow": null,
            "grid_auto_rows": null,
            "grid_column": null,
            "grid_gap": null,
            "grid_row": null,
            "grid_template_areas": null,
            "grid_template_columns": null,
            "grid_template_rows": null,
            "height": null,
            "justify_content": null,
            "justify_items": null,
            "left": null,
            "margin": null,
            "max_height": null,
            "max_width": null,
            "min_height": null,
            "min_width": null,
            "object_fit": null,
            "object_position": null,
            "order": null,
            "overflow": null,
            "overflow_x": null,
            "overflow_y": null,
            "padding": null,
            "right": null,
            "top": null,
            "visibility": null,
            "width": null
          }
        },
        "9732c5f0176f44d0a8289302b64e32c2": {
          "model_module": "@jupyter-widgets/controls",
          "model_name": "DescriptionStyleModel",
          "model_module_version": "1.5.0",
          "state": {
            "_model_module": "@jupyter-widgets/controls",
            "_model_module_version": "1.5.0",
            "_model_name": "DescriptionStyleModel",
            "_view_count": null,
            "_view_module": "@jupyter-widgets/base",
            "_view_module_version": "1.2.0",
            "_view_name": "StyleView",
            "description_width": ""
          }
        }
      }
    }
  },
  "cells": [
    {
      "cell_type": "markdown",
      "metadata": {
        "id": "view-in-github",
        "colab_type": "text"
      },
      "source": [
        "<a href=\"https://colab.research.google.com/github/genzj/llm-fine-tune-course/blob/main/Lab_03_Evaluation.ipynb\" target=\"_parent\"><img src=\"https://colab.research.google.com/assets/colab-badge.svg\" alt=\"Open In Colab\"/></a>"
      ]
    },
    {
      "cell_type": "markdown",
      "source": [
        "## 首先修改会话类型为GPU\n",
        "\n",
        "![PixPin_2024-01-13_14-05-53.jpg](data:image/jpeg;base64,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)\n",
        "\n",
        "![PixPin_2024-01-13_14-06-16.jpg](data:image/jpeg;base64,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)"
      ],
      "metadata": {
        "id": "8-LZdSze2pnG"
      }
    },
    {
      "cell_type": "code",
      "execution_count": null,
      "metadata": {
        "id": "nvbFAo-L2HM0",
        "colab": {
          "base_uri": "https://localhost:8080/"
        },
        "outputId": "70d33e28-8cd8-45b5-e5fd-709ebc87b633"
      },
      "outputs": [
        {
          "output_type": "stream",
          "name": "stdout",
          "text": [
            "Requirement already satisfied: transformers==4.31.0 in /usr/local/lib/python3.10/dist-packages (4.31.0)\n",
            "Requirement already satisfied: datasets==2.13.0 in /usr/local/lib/python3.10/dist-packages (2.13.0)\n",
            "Requirement already satisfied: peft==0.4.0 in /usr/local/lib/python3.10/dist-packages (0.4.0)\n",
            "Requirement already satisfied: accelerate==0.21.0 in /usr/local/lib/python3.10/dist-packages (0.21.0)\n",
            "Requirement already satisfied: bitsandbytes==0.40.2 in /usr/local/lib/python3.10/dist-packages (0.40.2)\n",
            "Requirement already satisfied: trl==0.4.7 in /usr/local/lib/python3.10/dist-packages (0.4.7)\n",
            "Requirement already satisfied: mlflow in /usr/local/lib/python3.10/dist-packages (2.9.2)\n",
            "Requirement already satisfied: sentencepiece in /usr/local/lib/python3.10/dist-packages (0.1.99)\n",
            "Requirement already satisfied: evaluate in /usr/local/lib/python3.10/dist-packages (0.4.1)\n",
            "Requirement already satisfied: filelock in /usr/local/lib/python3.10/dist-packages (from transformers==4.31.0) (3.13.1)\n",
            "Requirement already satisfied: huggingface-hub<1.0,>=0.14.1 in /usr/local/lib/python3.10/dist-packages (from transformers==4.31.0) (0.20.2)\n",
            "Requirement already satisfied: numpy>=1.17 in /usr/local/lib/python3.10/dist-packages (from transformers==4.31.0) (1.23.5)\n",
            "Requirement already satisfied: packaging>=20.0 in /usr/local/lib/python3.10/dist-packages (from transformers==4.31.0) (23.2)\n",
            "Requirement already satisfied: pyyaml>=5.1 in /usr/local/lib/python3.10/dist-packages (from transformers==4.31.0) (6.0.1)\n",
            "Requirement already satisfied: regex!=2019.12.17 in /usr/local/lib/python3.10/dist-packages (from transformers==4.31.0) (2023.6.3)\n",
            "Requirement already satisfied: requests in /usr/local/lib/python3.10/dist-packages (from transformers==4.31.0) (2.31.0)\n",
            "Requirement already satisfied: tokenizers!=0.11.3,<0.14,>=0.11.1 in /usr/local/lib/python3.10/dist-packages (from transformers==4.31.0) (0.13.3)\n",
            "Requirement already satisfied: safetensors>=0.3.1 in /usr/local/lib/python3.10/dist-packages (from transformers==4.31.0) (0.4.1)\n",
            "Requirement already satisfied: tqdm>=4.27 in /usr/local/lib/python3.10/dist-packages (from transformers==4.31.0) (4.66.1)\n",
            "Requirement already satisfied: pyarrow>=8.0.0 in /usr/local/lib/python3.10/dist-packages (from datasets==2.13.0) (10.0.1)\n",
            "Requirement already satisfied: dill<0.3.7,>=0.3.0 in /usr/local/lib/python3.10/dist-packages (from datasets==2.13.0) (0.3.6)\n",
            "Requirement already satisfied: pandas in /usr/local/lib/python3.10/dist-packages (from datasets==2.13.0) (1.5.3)\n",
            "Requirement already satisfied: xxhash in /usr/local/lib/python3.10/dist-packages (from datasets==2.13.0) (3.4.1)\n",
            "Requirement already satisfied: multiprocess in /usr/local/lib/python3.10/dist-packages (from datasets==2.13.0) (0.70.14)\n",
            "Requirement already satisfied: fsspec[http]>=2021.11.1 in /usr/local/lib/python3.10/dist-packages (from datasets==2.13.0) (2023.6.0)\n",
            "Requirement already satisfied: aiohttp in /usr/local/lib/python3.10/dist-packages (from datasets==2.13.0) (3.9.1)\n",
            "Requirement already satisfied: psutil in /usr/local/lib/python3.10/dist-packages (from peft==0.4.0) (5.9.5)\n",
            "Requirement already satisfied: torch>=1.13.0 in /usr/local/lib/python3.10/dist-packages (from peft==0.4.0) (2.1.0+cu121)\n",
            "Requirement already satisfied: click<9,>=7.0 in /usr/local/lib/python3.10/dist-packages (from mlflow) (8.1.7)\n",
            "Requirement already satisfied: cloudpickle<4 in /usr/local/lib/python3.10/dist-packages (from mlflow) (2.2.1)\n",
            "Requirement already satisfied: databricks-cli<1,>=0.8.7 in /usr/local/lib/python3.10/dist-packages (from mlflow) (0.18.0)\n",
            "Requirement already satisfied: entrypoints<1 in /usr/local/lib/python3.10/dist-packages (from mlflow) (0.4)\n",
            "Requirement already satisfied: gitpython<4,>=2.1.0 in /usr/local/lib/python3.10/dist-packages (from mlflow) (3.1.41)\n",
            "Requirement already satisfied: protobuf<5,>=3.12.0 in /usr/local/lib/python3.10/dist-packages (from mlflow) (3.20.3)\n",
            "Requirement already satisfied: pytz<2024 in /usr/local/lib/python3.10/dist-packages (from mlflow) (2023.3.post1)\n",
            "Requirement already satisfied: importlib-metadata!=4.7.0,<8,>=3.7.0 in /usr/local/lib/python3.10/dist-packages (from mlflow) (7.0.1)\n",
            "Requirement already satisfied: sqlparse<1,>=0.4.0 in /usr/local/lib/python3.10/dist-packages (from mlflow) (0.4.4)\n",
            "Requirement already satisfied: alembic!=1.10.0,<2 in /usr/local/lib/python3.10/dist-packages (from mlflow) (1.13.1)\n",
            "Requirement already satisfied: docker<7,>=4.0.0 in /usr/local/lib/python3.10/dist-packages (from mlflow) (6.1.3)\n",
            "Requirement already satisfied: Flask<4 in /usr/local/lib/python3.10/dist-packages (from mlflow) (2.2.5)\n",
            "Requirement already satisfied: scipy<2 in /usr/local/lib/python3.10/dist-packages (from mlflow) (1.11.4)\n",
            "Requirement already satisfied: querystring-parser<2 in /usr/local/lib/python3.10/dist-packages (from mlflow) (1.2.4)\n",
            "Requirement already satisfied: sqlalchemy<3,>=1.4.0 in /usr/local/lib/python3.10/dist-packages (from mlflow) (2.0.24)\n",
            "Requirement already satisfied: scikit-learn<2 in /usr/local/lib/python3.10/dist-packages (from mlflow) (1.2.2)\n",
            "Requirement already satisfied: markdown<4,>=3.3 in /usr/local/lib/python3.10/dist-packages (from mlflow) (3.5.2)\n",
            "Requirement already satisfied: matplotlib<4 in /usr/local/lib/python3.10/dist-packages (from mlflow) (3.7.1)\n",
            "Requirement already satisfied: gunicorn<22 in /usr/local/lib/python3.10/dist-packages (from mlflow) (21.2.0)\n",
            "Requirement already satisfied: Jinja2<4,>=2.11 in /usr/local/lib/python3.10/dist-packages (from mlflow) (3.1.3)\n",
            "Requirement already satisfied: responses<0.19 in /usr/local/lib/python3.10/dist-packages (from evaluate) (0.18.0)\n",
            "Requirement already satisfied: Mako in /usr/local/lib/python3.10/dist-packages (from alembic!=1.10.0,<2->mlflow) (1.3.0)\n",
            "Requirement already satisfied: typing-extensions>=4 in /usr/local/lib/python3.10/dist-packages (from alembic!=1.10.0,<2->mlflow) (4.5.0)\n",
            "Requirement already satisfied: pyjwt>=1.7.0 in /usr/lib/python3/dist-packages (from databricks-cli<1,>=0.8.7->mlflow) (2.3.0)\n",
            "Requirement already satisfied: oauthlib>=3.1.0 in /usr/local/lib/python3.10/dist-packages (from databricks-cli<1,>=0.8.7->mlflow) (3.2.2)\n",
            "Requirement already satisfied: tabulate>=0.7.7 in /usr/local/lib/python3.10/dist-packages (from databricks-cli<1,>=0.8.7->mlflow) (0.9.0)\n",
            "Requirement already satisfied: six>=1.10.0 in /usr/local/lib/python3.10/dist-packages (from databricks-cli<1,>=0.8.7->mlflow) (1.16.0)\n",
            "Requirement already satisfied: urllib3<3,>=1.26.7 in /usr/local/lib/python3.10/dist-packages (from databricks-cli<1,>=0.8.7->mlflow) (2.0.7)\n",
            "Requirement already satisfied: websocket-client>=0.32.0 in /usr/local/lib/python3.10/dist-packages (from docker<7,>=4.0.0->mlflow) (1.7.0)\n",
            "Requirement already satisfied: Werkzeug>=2.2.2 in /usr/local/lib/python3.10/dist-packages (from Flask<4->mlflow) (3.0.1)\n",
            "Requirement already satisfied: itsdangerous>=2.0 in /usr/local/lib/python3.10/dist-packages (from Flask<4->mlflow) (2.1.2)\n",
            "Requirement already satisfied: attrs>=17.3.0 in /usr/local/lib/python3.10/dist-packages (from aiohttp->datasets==2.13.0) (23.2.0)\n",
            "Requirement already satisfied: multidict<7.0,>=4.5 in /usr/local/lib/python3.10/dist-packages (from aiohttp->datasets==2.13.0) (6.0.4)\n",
            "Requirement already satisfied: yarl<2.0,>=1.0 in /usr/local/lib/python3.10/dist-packages (from aiohttp->datasets==2.13.0) (1.9.4)\n",
            "Requirement already satisfied: frozenlist>=1.1.1 in /usr/local/lib/python3.10/dist-packages (from aiohttp->datasets==2.13.0) (1.4.1)\n",
            "Requirement already satisfied: aiosignal>=1.1.2 in /usr/local/lib/python3.10/dist-packages (from aiohttp->datasets==2.13.0) (1.3.1)\n",
            "Requirement already satisfied: async-timeout<5.0,>=4.0 in /usr/local/lib/python3.10/dist-packages (from aiohttp->datasets==2.13.0) (4.0.3)\n",
            "Requirement already satisfied: gitdb<5,>=4.0.1 in /usr/local/lib/python3.10/dist-packages (from gitpython<4,>=2.1.0->mlflow) (4.0.11)\n",
            "Requirement already satisfied: zipp>=0.5 in /usr/local/lib/python3.10/dist-packages (from importlib-metadata!=4.7.0,<8,>=3.7.0->mlflow) (3.17.0)\n",
            "Requirement already satisfied: MarkupSafe>=2.0 in /usr/local/lib/python3.10/dist-packages (from Jinja2<4,>=2.11->mlflow) (2.1.3)\n",
            "Requirement already satisfied: contourpy>=1.0.1 in /usr/local/lib/python3.10/dist-packages (from matplotlib<4->mlflow) (1.2.0)\n",
            "Requirement already satisfied: cycler>=0.10 in /usr/local/lib/python3.10/dist-packages (from matplotlib<4->mlflow) (0.12.1)\n",
            "Requirement already satisfied: fonttools>=4.22.0 in /usr/local/lib/python3.10/dist-packages (from matplotlib<4->mlflow) (4.47.2)\n",
            "Requirement already satisfied: kiwisolver>=1.0.1 in /usr/local/lib/python3.10/dist-packages (from matplotlib<4->mlflow) (1.4.5)\n",
            "Requirement already satisfied: pillow>=6.2.0 in /usr/local/lib/python3.10/dist-packages (from matplotlib<4->mlflow) (9.4.0)\n",
            "Requirement already satisfied: pyparsing>=2.3.1 in /usr/local/lib/python3.10/dist-packages (from matplotlib<4->mlflow) (3.1.1)\n",
            "Requirement already satisfied: python-dateutil>=2.7 in /usr/local/lib/python3.10/dist-packages (from matplotlib<4->mlflow) (2.8.2)\n",
            "Requirement already satisfied: charset-normalizer<4,>=2 in /usr/local/lib/python3.10/dist-packages (from requests->transformers==4.31.0) (3.3.2)\n",
            "Requirement already satisfied: idna<4,>=2.5 in /usr/local/lib/python3.10/dist-packages (from requests->transformers==4.31.0) (3.6)\n",
            "Requirement already satisfied: certifi>=2017.4.17 in /usr/local/lib/python3.10/dist-packages (from requests->transformers==4.31.0) (2023.11.17)\n",
            "Requirement already satisfied: joblib>=1.1.1 in /usr/local/lib/python3.10/dist-packages (from scikit-learn<2->mlflow) (1.3.2)\n",
            "Requirement already satisfied: threadpoolctl>=2.0.0 in /usr/local/lib/python3.10/dist-packages (from scikit-learn<2->mlflow) (3.2.0)\n",
            "Requirement already satisfied: greenlet!=0.4.17 in /usr/local/lib/python3.10/dist-packages (from sqlalchemy<3,>=1.4.0->mlflow) (3.0.3)\n",
            "Requirement already satisfied: sympy in /usr/local/lib/python3.10/dist-packages (from torch>=1.13.0->peft==0.4.0) (1.12)\n",
            "Requirement already satisfied: networkx in /usr/local/lib/python3.10/dist-packages (from torch>=1.13.0->peft==0.4.0) (3.2.1)\n",
            "Requirement already satisfied: triton==2.1.0 in /usr/local/lib/python3.10/dist-packages (from torch>=1.13.0->peft==0.4.0) (2.1.0)\n",
            "Requirement already satisfied: smmap<6,>=3.0.1 in /usr/local/lib/python3.10/dist-packages (from gitdb<5,>=4.0.1->gitpython<4,>=2.1.0->mlflow) (5.0.1)\n",
            "Requirement already satisfied: mpmath>=0.19 in /usr/local/lib/python3.10/dist-packages (from sympy->torch>=1.13.0->peft==0.4.0) (1.3.0)\n"
          ]
        }
      ],
      "source": [
        "# 安装依赖库\n",
        "!pip install transformers==4.31.0 datasets==2.13.0 peft==0.4.0 \\\n",
        "  accelerate==0.21.0 bitsandbytes==0.40.2 trl==0.4.7 mlflow \\\n",
        "  sentencepiece evaluate"
      ]
    },
    {
      "cell_type": "markdown",
      "source": [
        "## 数据加载"
      ],
      "metadata": {
        "id": "rs8RPvuN4jkm"
      }
    },
    {
      "cell_type": "code",
      "source": [
        "from datasets import load_dataset\n",
        "from IPython.display import display, display_markdown\n",
        "import pandas as pd\n",
        "import textwrap"
      ],
      "metadata": {
        "id": "KcZp2KJF4N7s"
      },
      "execution_count": null,
      "outputs": []
    },
    {
      "cell_type": "code",
      "source": [
        "def print_long_string(s: str, width=70):\n",
        "  print('\\n'.join(textwrap.wrap(s, width=width)))"
      ],
      "metadata": {
        "id": "TbX35IhKELEy"
      },
      "execution_count": null,
      "outputs": []
    },
    {
      "cell_type": "code",
      "source": [
        "hellaswag_ds = load_dataset(\"Rowan/hellaswag\")\n",
        "hellaswag_df = pd.DataFrame(hellaswag_ds['validation'])\n",
        "display(hellaswag_df.head())"
      ],
      "metadata": {
        "colab": {
          "base_uri": "https://localhost:8080/",
          "height": 473,
          "referenced_widgets": [
            "e91b4a19923a46c09610c310bb35f08d",
            "bb8ab92d76b749f385db0133c4dd34c9",
            "b18f2696e3ce4c9b9c166cae70aa1a0d",
            "b54a48c7606444949023a9a0b96a2a1f",
            "b2aff9c92dd74c69afd16c89b30833eb",
            "af1c1ab356fd4dd393d0976eb321d8a8",
            "f70c23edf11b443ebb97bc772ab79c89",
            "7d723250ef104821a8a1e5ae9090e377",
            "a0222a5cea154931a0dcf7e080904124",
            "5696acbf0ebb4ebc8eefa87b955d7e47",
            "9732c5f0176f44d0a8289302b64e32c2"
          ]
        },
        "id": "wkVqDA4N-nYS",
        "outputId": "78331879-471a-4915-8ecc-deaf118c71a4"
      },
      "execution_count": null,
      "outputs": [
        {
          "output_type": "stream",
          "name": "stderr",
          "text": [
            "/usr/local/lib/python3.10/dist-packages/huggingface_hub/utils/_token.py:88: UserWarning: \n",
            "The secret `HF_TOKEN` does not exist in your Colab secrets.\n",
            "To authenticate with the Hugging Face Hub, create a token in your settings tab (https://huggingface.co/settings/tokens), set it as secret in your Google Colab and restart your session.\n",
            "You will be able to reuse this secret in all of your notebooks.\n",
            "Please note that authentication is recommended but still optional to access public models or datasets.\n",
            "  warnings.warn(\n",
            "WARNING:datasets.builder:Found cached dataset hellaswag (/root/.cache/huggingface/datasets/Rowan___hellaswag/default/0.1.0/512a66dd8b1b1643ab4a48aa4f150d04c91680da6a4096498a5e5f799623d5ae)\n"
          ]
        },
        {
          "output_type": "display_data",
          "data": {
            "text/plain": [
              "  0%|          | 0/3 [00:00<?, ?it/s]"
            ],
            "application/vnd.jupyter.widget-view+json": {
              "version_major": 2,
              "version_minor": 0,
              "model_id": "e91b4a19923a46c09610c310bb35f08d"
            }
          },
          "metadata": {}
        },
        {
          "output_type": "display_data",
          "data": {
            "text/plain": [
              "   ind        activity_label  \\\n",
              "0   24  Roof shingle removal   \n",
              "1   92        Clean and jerk   \n",
              "2  106              Canoeing   \n",
              "3  114             High jump   \n",
              "4  116             High jump   \n",
              "\n",
              "                                               ctx_a  \\\n",
              "0                        A man is sitting on a roof.   \n",
              "1  A lady walks to a barbell. She bends down and ...   \n",
              "2  Two women in a child are shown in a canoe whil...   \n",
              "3                     A boy is running down a track.   \n",
              "4  The boy lifts his body above the height of a p...   \n",
              "\n",
              "                           ctx_b  \\\n",
              "0                             he   \n",
              "1                       the lady   \n",
              "2  the child and a different man   \n",
              "3                        the boy   \n",
              "4                        the boy   \n",
              "\n",
              "                                                 ctx  \\\n",
              "0                     A man is sitting on a roof. he   \n",
              "1  A lady walks to a barbell. She bends down and ...   \n",
              "2  Two women in a child are shown in a canoe whil...   \n",
              "3             A boy is running down a track. the boy   \n",
              "4  The boy lifts his body above the height of a p...   \n",
              "\n",
              "                                             endings  \\\n",
              "0  [is using wrap to wrap a pair of skis., is rip...   \n",
              "1  [swings and lands in her arms., pulls the barb...   \n",
              "2  [are then shown paddling down a river in a boa...   \n",
              "3  [runs into a car., gets in a mat., lifts his b...   \n",
              "4  [turns his body around on the mat., gets up fr...   \n",
              "\n",
              "                   source_id split split_type label  \n",
              "0  activitynet~v_-JhWjGDPHMY   val   indomain     3  \n",
              "1  activitynet~v_-lJS58hyo1c   val   zeroshot     3  \n",
              "2  activitynet~v_-xQvJmC2jhk   val   indomain     2  \n",
              "3  activitynet~v_-zHX3Gdx6I4   val   zeroshot     2  \n",
              "4  activitynet~v_-zHX3Gdx6I4   val   zeroshot     1  "
            ],
            "text/html": [
              "\n",
              "  <div id=\"df-3b230d7a-1212-4b53-8632-70323ba70099\" class=\"colab-df-container\">\n",
              "    <div>\n",
              "<style scoped>\n",
              "    .dataframe tbody tr th:only-of-type {\n",
              "        vertical-align: middle;\n",
              "    }\n",
              "\n",
              "    .dataframe tbody tr th {\n",
              "        vertical-align: top;\n",
              "    }\n",
              "\n",
              "    .dataframe thead th {\n",
              "        text-align: right;\n",
              "    }\n",
              "</style>\n",
              "<table border=\"1\" class=\"dataframe\">\n",
              "  <thead>\n",
              "    <tr style=\"text-align: right;\">\n",
              "      <th></th>\n",
              "      <th>ind</th>\n",
              "      <th>activity_label</th>\n",
              "      <th>ctx_a</th>\n",
              "      <th>ctx_b</th>\n",
              "      <th>ctx</th>\n",
              "      <th>endings</th>\n",
              "      <th>source_id</th>\n",
              "      <th>split</th>\n",
              "      <th>split_type</th>\n",
              "      <th>label</th>\n",
              "    </tr>\n",
              "  </thead>\n",
              "  <tbody>\n",
              "    <tr>\n",
              "      <th>0</th>\n",
              "      <td>24</td>\n",
              "      <td>Roof shingle removal</td>\n",
              "      <td>A man is sitting on a roof.</td>\n",
              "      <td>he</td>\n",
              "      <td>A man is sitting on a roof. he</td>\n",
              "      <td>[is using wrap to wrap a pair of skis., is rip...</td>\n",
              "      <td>activitynet~v_-JhWjGDPHMY</td>\n",
              "      <td>val</td>\n",
              "      <td>indomain</td>\n",
              "      <td>3</td>\n",
              "    </tr>\n",
              "    <tr>\n",
              "      <th>1</th>\n",
              "      <td>92</td>\n",
              "      <td>Clean and jerk</td>\n",
              "      <td>A lady walks to a barbell. She bends down and ...</td>\n",
              "      <td>the lady</td>\n",
              "      <td>A lady walks to a barbell. She bends down and ...</td>\n",
              "      <td>[swings and lands in her arms., pulls the barb...</td>\n",
              "      <td>activitynet~v_-lJS58hyo1c</td>\n",
              "      <td>val</td>\n",
              "      <td>zeroshot</td>\n",
              "      <td>3</td>\n",
              "    </tr>\n",
              "    <tr>\n",
              "      <th>2</th>\n",
              "      <td>106</td>\n",
              "      <td>Canoeing</td>\n",
              "      <td>Two women in a child are shown in a canoe whil...</td>\n",
              "      <td>the child and a different man</td>\n",
              "      <td>Two women in a child are shown in a canoe whil...</td>\n",
              "      <td>[are then shown paddling down a river in a boa...</td>\n",
              "      <td>activitynet~v_-xQvJmC2jhk</td>\n",
              "      <td>val</td>\n",
              "      <td>indomain</td>\n",
              "      <td>2</td>\n",
              "    </tr>\n",
              "    <tr>\n",
              "      <th>3</th>\n",
              "      <td>114</td>\n",
              "      <td>High jump</td>\n",
              "      <td>A boy is running down a track.</td>\n",
              "      <td>the boy</td>\n",
              "      <td>A boy is running down a track. the boy</td>\n",
              "      <td>[runs into a car., gets in a mat., lifts his b...</td>\n",
              "      <td>activitynet~v_-zHX3Gdx6I4</td>\n",
              "      <td>val</td>\n",
              "      <td>zeroshot</td>\n",
              "      <td>2</td>\n",
              "    </tr>\n",
              "    <tr>\n",
              "      <th>4</th>\n",
              "      <td>116</td>\n",
              "      <td>High jump</td>\n",
              "      <td>The boy lifts his body above the height of a p...</td>\n",
              "      <td>the boy</td>\n",
              "      <td>The boy lifts his body above the height of a p...</td>\n",
              "      <td>[turns his body around on the mat., gets up fr...</td>\n",
              "      <td>activitynet~v_-zHX3Gdx6I4</td>\n",
              "      <td>val</td>\n",
              "      <td>zeroshot</td>\n",
              "      <td>1</td>\n",
              "    </tr>\n",
              "  </tbody>\n",
              "</table>\n",
              "</div>\n",
              "    <div class=\"colab-df-buttons\">\n",
              "\n",
              "  <div class=\"colab-df-container\">\n",
              "    <button class=\"colab-df-convert\" onclick=\"convertToInteractive('df-3b230d7a-1212-4b53-8632-70323ba70099')\"\n",
              "            title=\"Convert this dataframe to an interactive table.\"\n",
              "            style=\"display:none;\">\n",
              "\n",
              "  <svg xmlns=\"http://www.w3.org/2000/svg\" height=\"24px\" viewBox=\"0 -960 960 960\">\n",
              "    <path d=\"M120-120v-720h720v720H120Zm60-500h600v-160H180v160Zm220 220h160v-160H400v160Zm0 220h160v-160H400v160ZM180-400h160v-160H180v160Zm440 0h160v-160H620v160ZM180-180h160v-160H180v160Zm440 0h160v-160H620v160Z\"/>\n",
              "  </svg>\n",
              "    </button>\n",
              "\n",
              "  <style>\n",
              "    .colab-df-container {\n",
              "      display:flex;\n",
              "      gap: 12px;\n",
              "    }\n",
              "\n",
              "    .colab-df-convert {\n",
              "      background-color: #E8F0FE;\n",
              "      border: none;\n",
              "      border-radius: 50%;\n",
              "      cursor: pointer;\n",
              "      display: none;\n",
              "      fill: #1967D2;\n",
              "      height: 32px;\n",
              "      padding: 0 0 0 0;\n",
              "      width: 32px;\n",
              "    }\n",
              "\n",
              "    .colab-df-convert:hover {\n",
              "      background-color: #E2EBFA;\n",
              "      box-shadow: 0px 1px 2px rgba(60, 64, 67, 0.3), 0px 1px 3px 1px rgba(60, 64, 67, 0.15);\n",
              "      fill: #174EA6;\n",
              "    }\n",
              "\n",
              "    .colab-df-buttons div {\n",
              "      margin-bottom: 4px;\n",
              "    }\n",
              "\n",
              "    [theme=dark] .colab-df-convert {\n",
              "      background-color: #3B4455;\n",
              "      fill: #D2E3FC;\n",
              "    }\n",
              "\n",
              "    [theme=dark] .colab-df-convert:hover {\n",
              "      background-color: #434B5C;\n",
              "      box-shadow: 0px 1px 3px 1px rgba(0, 0, 0, 0.15);\n",
              "      filter: drop-shadow(0px 1px 2px rgba(0, 0, 0, 0.3));\n",
              "      fill: #FFFFFF;\n",
              "    }\n",
              "  </style>\n",
              "\n",
              "    <script>\n",
              "      const buttonEl =\n",
              "        document.querySelector('#df-3b230d7a-1212-4b53-8632-70323ba70099 button.colab-df-convert');\n",
              "      buttonEl.style.display =\n",
              "        google.colab.kernel.accessAllowed ? 'block' : 'none';\n",
              "\n",
              "      async function convertToInteractive(key) {\n",
              "        const element = document.querySelector('#df-3b230d7a-1212-4b53-8632-70323ba70099');\n",
              "        const dataTable =\n",
              "          await google.colab.kernel.invokeFunction('convertToInteractive',\n",
              "                                                    [key], {});\n",
              "        if (!dataTable) return;\n",
              "\n",
              "        const docLinkHtml = 'Like what you see? Visit the ' +\n",
              "          '<a target=\"_blank\" href=https://colab.research.google.com/notebooks/data_table.ipynb>data table notebook</a>'\n",
              "          + ' to learn more about interactive tables.';\n",
              "        element.innerHTML = '';\n",
              "        dataTable['output_type'] = 'display_data';\n",
              "        await google.colab.output.renderOutput(dataTable, element);\n",
              "        const docLink = document.createElement('div');\n",
              "        docLink.innerHTML = docLinkHtml;\n",
              "        element.appendChild(docLink);\n",
              "      }\n",
              "    </script>\n",
              "  </div>\n",
              "\n",
              "\n",
              "<div id=\"df-9addc6c3-8cae-43cd-9236-b6af840f99e4\">\n",
              "  <button class=\"colab-df-quickchart\" onclick=\"quickchart('df-9addc6c3-8cae-43cd-9236-b6af840f99e4')\"\n",
              "            title=\"Suggest charts\"\n",
              "            style=\"display:none;\">\n",
              "\n",
              "<svg xmlns=\"http://www.w3.org/2000/svg\" height=\"24px\"viewBox=\"0 0 24 24\"\n",
              "     width=\"24px\">\n",
              "    <g>\n",
              "        <path d=\"M19 3H5c-1.1 0-2 .9-2 2v14c0 1.1.9 2 2 2h14c1.1 0 2-.9 2-2V5c0-1.1-.9-2-2-2zM9 17H7v-7h2v7zm4 0h-2V7h2v10zm4 0h-2v-4h2v4z\"/>\n",
              "    </g>\n",
              "</svg>\n",
              "  </button>\n",
              "\n",
              "<style>\n",
              "  .colab-df-quickchart {\n",
              "      --bg-color: #E8F0FE;\n",
              "      --fill-color: #1967D2;\n",
              "      --hover-bg-color: #E2EBFA;\n",
              "      --hover-fill-color: #174EA6;\n",
              "      --disabled-fill-color: #AAA;\n",
              "      --disabled-bg-color: #DDD;\n",
              "  }\n",
              "\n",
              "  [theme=dark] .colab-df-quickchart {\n",
              "      --bg-color: #3B4455;\n",
              "      --fill-color: #D2E3FC;\n",
              "      --hover-bg-color: #434B5C;\n",
              "      --hover-fill-color: #FFFFFF;\n",
              "      --disabled-bg-color: #3B4455;\n",
              "      --disabled-fill-color: #666;\n",
              "  }\n",
              "\n",
              "  .colab-df-quickchart {\n",
              "    background-color: var(--bg-color);\n",
              "    border: none;\n",
              "    border-radius: 50%;\n",
              "    cursor: pointer;\n",
              "    display: none;\n",
              "    fill: var(--fill-color);\n",
              "    height: 32px;\n",
              "    padding: 0;\n",
              "    width: 32px;\n",
              "  }\n",
              "\n",
              "  .colab-df-quickchart:hover {\n",
              "    background-color: var(--hover-bg-color);\n",
              "    box-shadow: 0 1px 2px rgba(60, 64, 67, 0.3), 0 1px 3px 1px rgba(60, 64, 67, 0.15);\n",
              "    fill: var(--button-hover-fill-color);\n",
              "  }\n",
              "\n",
              "  .colab-df-quickchart-complete:disabled,\n",
              "  .colab-df-quickchart-complete:disabled:hover {\n",
              "    background-color: var(--disabled-bg-color);\n",
              "    fill: var(--disabled-fill-color);\n",
              "    box-shadow: none;\n",
              "  }\n",
              "\n",
              "  .colab-df-spinner {\n",
              "    border: 2px solid var(--fill-color);\n",
              "    border-color: transparent;\n",
              "    border-bottom-color: var(--fill-color);\n",
              "    animation:\n",
              "      spin 1s steps(1) infinite;\n",
              "  }\n",
              "\n",
              "  @keyframes spin {\n",
              "    0% {\n",
              "      border-color: transparent;\n",
              "      border-bottom-color: var(--fill-color);\n",
              "      border-left-color: var(--fill-color);\n",
              "    }\n",
              "    20% {\n",
              "      border-color: transparent;\n",
              "      border-left-color: var(--fill-color);\n",
              "      border-top-color: var(--fill-color);\n",
              "    }\n",
              "    30% {\n",
              "      border-color: transparent;\n",
              "      border-left-color: var(--fill-color);\n",
              "      border-top-color: var(--fill-color);\n",
              "      border-right-color: var(--fill-color);\n",
              "    }\n",
              "    40% {\n",
              "      border-color: transparent;\n",
              "      border-right-color: var(--fill-color);\n",
              "      border-top-color: var(--fill-color);\n",
              "    }\n",
              "    60% {\n",
              "      border-color: transparent;\n",
              "      border-right-color: var(--fill-color);\n",
              "    }\n",
              "    80% {\n",
              "      border-color: transparent;\n",
              "      border-right-color: var(--fill-color);\n",
              "      border-bottom-color: var(--fill-color);\n",
              "    }\n",
              "    90% {\n",
              "      border-color: transparent;\n",
              "      border-bottom-color: var(--fill-color);\n",
              "    }\n",
              "  }\n",
              "</style>\n",
              "\n",
              "  <script>\n",
              "    async function quickchart(key) {\n",
              "      const quickchartButtonEl =\n",
              "        document.querySelector('#' + key + ' button');\n",
              "      quickchartButtonEl.disabled = true;  // To prevent multiple clicks.\n",
              "      quickchartButtonEl.classList.add('colab-df-spinner');\n",
              "      try {\n",
              "        const charts = await google.colab.kernel.invokeFunction(\n",
              "            'suggestCharts', [key], {});\n",
              "      } catch (error) {\n",
              "        console.error('Error during call to suggestCharts:', error);\n",
              "      }\n",
              "      quickchartButtonEl.classList.remove('colab-df-spinner');\n",
              "      quickchartButtonEl.classList.add('colab-df-quickchart-complete');\n",
              "    }\n",
              "    (() => {\n",
              "      let quickchartButtonEl =\n",
              "        document.querySelector('#df-9addc6c3-8cae-43cd-9236-b6af840f99e4 button');\n",
              "      quickchartButtonEl.style.display =\n",
              "        google.colab.kernel.accessAllowed ? 'block' : 'none';\n",
              "    })();\n",
              "  </script>\n",
              "</div>\n",
              "\n",
              "    </div>\n",
              "  </div>\n"
            ]
          },
          "metadata": {}
        }
      ]
    },
    {
      "cell_type": "markdown",
      "source": [
        "## 加载模型"
      ],
      "metadata": {
        "id": "xbpBX0n5BBW1"
      }
    },
    {
      "cell_type": "code",
      "source": [
        "from transformers import LlamaTokenizer, LlamaForCausalLM"
      ],
      "metadata": {
        "id": "VnZtbMYOBM3I"
      },
      "execution_count": null,
      "outputs": []
    },
    {
      "cell_type": "code",
      "source": [
        "model_path = 'openlm-research/open_llama_3b_v2'\n",
        "model = LlamaForCausalLM.from_pretrained(\n",
        "    model_path, device_map='auto',\n",
        ")"
      ],
      "metadata": {
        "id": "OmoH6lWWA8LK"
      },
      "execution_count": null,
      "outputs": []
    },
    {
      "cell_type": "code",
      "source": [
        "tokenizer = LlamaTokenizer.from_pretrained(model_path)\n",
        "tokenizer.add_special_tokens({'pad_token': '[PAD]'})"
      ],
      "metadata": {
        "colab": {
          "base_uri": "https://localhost:8080/"
        },
        "id": "643NWpaiAQ-f",
        "outputId": "2b210346-d741-4473-a7a6-19cfcf7d78b5"
      },
      "execution_count": null,
      "outputs": [
        {
          "output_type": "stream",
          "name": "stderr",
          "text": [
            "You are using the legacy behaviour of the <class 'transformers.models.llama.tokenization_llama.LlamaTokenizer'>. This means that tokens that come after special tokens will not be properly handled. We recommend you to read the related pull request available at https://github.com/huggingface/transformers/pull/24565\n"
          ]
        },
        {
          "output_type": "execute_result",
          "data": {
            "text/plain": [
              "1"
            ]
          },
          "metadata": {},
          "execution_count": 7
        }
      ]
    },
    {
      "cell_type": "markdown",
      "source": [
        "## 方法一：手动评估"
      ],
      "metadata": {
        "id": "LWCfNPOXwdn-"
      }
    },
    {
      "cell_type": "code",
      "source": [
        "def remove_special_chars(s):\n",
        "  return s.replace('[', '').replace(']', '')\n",
        "\n",
        "def prompt_hellaswag(example):\n",
        "  ctx = remove_special_chars(example['ctx'])\n",
        "  endings = [remove_special_chars(ending) for ending in example['endings']]\n",
        "  prompt = f\"Context: {ctx}\\nQuestion: Which ending makes the most sense?\\n\"\n",
        "  prompt += 'Endings:\\n'\n",
        "  prompt += f\"A. {endings[0]}\\n\"\n",
        "  prompt += f\"B. {endings[1]}\\n\"\n",
        "  prompt += f\"C. {endings[2]}\\n\"\n",
        "  prompt += f\"D. {endings[3]}\\n\"\n",
        "  prompt += \"You may choose from 'A', 'B', 'C', 'D'.\\nAnswer:\"\n",
        "\n",
        "  return prompt\n",
        "\n",
        "print(prompt_hellaswag(hellaswag_df.iloc[5809]))"
      ],
      "metadata": {
        "colab": {
          "base_uri": "https://localhost:8080/"
        },
        "id": "sf3OEd7d-rda",
        "outputId": "a2f20a19-d4d4-4e6d-8c1a-6ac78ce5967c"
      },
      "execution_count": null,
      "outputs": [
        {
          "output_type": "stream",
          "name": "stdout",
          "text": [
            "Context: header How to get perfect eyebrows title Find the place where your brows should begin. step Finding just the right spot for your inner brows to start is key to creating perfect brows, since starting too far in could throw off the balance of your face. To figure out where your inner brows should start, use the following technique : substeps As a general starting point, take a pencil or other long, thin instrument and line it up with the inside corner of your eye.\n",
            "Question: Which ending makes the most sense?\n",
            "Endings:\n",
            "A. It should create a slight curve out the corner. Lower it back into position and not over your eyes.\n",
            "B. The place where the instrument overlaps your brow is where it should begin. Mark the spot by making a dot there with an eyeliner pencil.\n",
            "C. Measure the length of your inner brow and the width of your outer brow. Make sure it is inside the outer portion of your eye.\n",
            "D. Draw a dot just above or just above the inner corner of your eye. Make sure that the lines cross a little bit above or below your eyebrows.\n",
            "You may choose from 'A', 'B', 'C', 'D'.\n",
            "Answer:\n"
          ]
        }
      ]
    },
    {
      "cell_type": "code",
      "source": [
        "hellaswag_df_sample = hellaswag_df.sample(n=5, random_state=42)\n",
        "display(hellaswag_df_sample)"
      ],
      "metadata": {
        "colab": {
          "base_uri": "https://localhost:8080/",
          "height": 293
        },
        "id": "v8aSLcHi-5Ow",
        "outputId": "88539249-6092-4af2-d53a-3d37bbf08a5e"
      },
      "execution_count": null,
      "outputs": [
        {
          "output_type": "display_data",
          "data": {
            "text/plain": [
              "        ind           activity_label  \\\n",
              "5809  19073  Personal Care and Style   \n",
              "5938  20017  Personal Care and Style   \n",
              "2260  34560        Sharpening knives   \n",
              "8834  41427              Family Life   \n",
              "4513   9755                   Health   \n",
              "\n",
              "                                                  ctx_a       ctx_b  \\\n",
              "5809  [header] How to get perfect eyebrows [title] F...               \n",
              "5938  [header] How to make french knot easy way hair...               \n",
              "2260  The person puts a new belt on the machine. The...  the person   \n",
              "8834  [header] How to plan your own funeral [title] ...               \n",
              "4513  [header] How to buy an exercise bike [title] E...               \n",
              "\n",
              "                                                    ctx  \\\n",
              "5809  [header] How to get perfect eyebrows [title] F...   \n",
              "5938  [header] How to make french knot easy way hair...   \n",
              "2260  The person puts a new belt on the machine. The...   \n",
              "8834  [header] How to plan your own funeral [title] ...   \n",
              "4513  [header] How to buy an exercise bike [title] E...   \n",
              "\n",
              "                                                endings  \\\n",
              "5809  [It should create a slight curve out the corne...   \n",
              "5938  [Therefore, it is important to make sure to no...   \n",
              "2260  [removes the f * * king wheelie and chains the...   \n",
              "8834  [Then, come up with ideas for different funera...   \n",
              "4513  [[title] Choose an upright bike for low impact...   \n",
              "\n",
              "                      source_id split split_type label  \n",
              "5809              wikihow~31450   val   zeroshot     1  \n",
              "5938              wikihow~33062   val   zeroshot     1  \n",
              "2260  activitynet~v_pHAIrx_cRFU   val   zeroshot     2  \n",
              "8834              wikihow~68173   val   zeroshot     2  \n",
              "4513              wikihow~16080   val   indomain     0  "
            ],
            "text/html": [
              "\n",
              "  <div id=\"df-0d5bb973-7dd0-4478-9f07-c68f82187c09\" class=\"colab-df-container\">\n",
              "    <div>\n",
              "<style scoped>\n",
              "    .dataframe tbody tr th:only-of-type {\n",
              "        vertical-align: middle;\n",
              "    }\n",
              "\n",
              "    .dataframe tbody tr th {\n",
              "        vertical-align: top;\n",
              "    }\n",
              "\n",
              "    .dataframe thead th {\n",
              "        text-align: right;\n",
              "    }\n",
              "</style>\n",
              "<table border=\"1\" class=\"dataframe\">\n",
              "  <thead>\n",
              "    <tr style=\"text-align: right;\">\n",
              "      <th></th>\n",
              "      <th>ind</th>\n",
              "      <th>activity_label</th>\n",
              "      <th>ctx_a</th>\n",
              "      <th>ctx_b</th>\n",
              "      <th>ctx</th>\n",
              "      <th>endings</th>\n",
              "      <th>source_id</th>\n",
              "      <th>split</th>\n",
              "      <th>split_type</th>\n",
              "      <th>label</th>\n",
              "    </tr>\n",
              "  </thead>\n",
              "  <tbody>\n",
              "    <tr>\n",
              "      <th>5809</th>\n",
              "      <td>19073</td>\n",
              "      <td>Personal Care and Style</td>\n",
              "      <td>[header] How to get perfect eyebrows [title] F...</td>\n",
              "      <td></td>\n",
              "      <td>[header] How to get perfect eyebrows [title] F...</td>\n",
              "      <td>[It should create a slight curve out the corne...</td>\n",
              "      <td>wikihow~31450</td>\n",
              "      <td>val</td>\n",
              "      <td>zeroshot</td>\n",
              "      <td>1</td>\n",
              "    </tr>\n",
              "    <tr>\n",
              "      <th>5938</th>\n",
              "      <td>20017</td>\n",
              "      <td>Personal Care and Style</td>\n",
              "      <td>[header] How to make french knot easy way hair...</td>\n",
              "      <td></td>\n",
              "      <td>[header] How to make french knot easy way hair...</td>\n",
              "      <td>[Therefore, it is important to make sure to no...</td>\n",
              "      <td>wikihow~33062</td>\n",
              "      <td>val</td>\n",
              "      <td>zeroshot</td>\n",
              "      <td>1</td>\n",
              "    </tr>\n",
              "    <tr>\n",
              "      <th>2260</th>\n",
              "      <td>34560</td>\n",
              "      <td>Sharpening knives</td>\n",
              "      <td>The person puts a new belt on the machine. The...</td>\n",
              "      <td>the person</td>\n",
              "      <td>The person puts a new belt on the machine. The...</td>\n",
              "      <td>[removes the f * * king wheelie and chains the...</td>\n",
              "      <td>activitynet~v_pHAIrx_cRFU</td>\n",
              "      <td>val</td>\n",
              "      <td>zeroshot</td>\n",
              "      <td>2</td>\n",
              "    </tr>\n",
              "    <tr>\n",
              "      <th>8834</th>\n",
              "      <td>41427</td>\n",
              "      <td>Family Life</td>\n",
              "      <td>[header] How to plan your own funeral [title] ...</td>\n",
              "      <td></td>\n",
              "      <td>[header] How to plan your own funeral [title] ...</td>\n",
              "      <td>[Then, come up with ideas for different funera...</td>\n",
              "      <td>wikihow~68173</td>\n",
              "      <td>val</td>\n",
              "      <td>zeroshot</td>\n",
              "      <td>2</td>\n",
              "    </tr>\n",
              "    <tr>\n",
              "      <th>4513</th>\n",
              "      <td>9755</td>\n",
              "      <td>Health</td>\n",
              "      <td>[header] How to buy an exercise bike [title] E...</td>\n",
              "      <td></td>\n",
              "      <td>[header] How to buy an exercise bike [title] E...</td>\n",
              "      <td>[[title] Choose an upright bike for low impact...</td>\n",
              "      <td>wikihow~16080</td>\n",
              "      <td>val</td>\n",
              "      <td>indomain</td>\n",
              "      <td>0</td>\n",
              "    </tr>\n",
              "  </tbody>\n",
              "</table>\n",
              "</div>\n",
              "    <div class=\"colab-df-buttons\">\n",
              "\n",
              "  <div class=\"colab-df-container\">\n",
              "    <button class=\"colab-df-convert\" onclick=\"convertToInteractive('df-0d5bb973-7dd0-4478-9f07-c68f82187c09')\"\n",
              "            title=\"Convert this dataframe to an interactive table.\"\n",
              "            style=\"display:none;\">\n",
              "\n",
              "  <svg xmlns=\"http://www.w3.org/2000/svg\" height=\"24px\" viewBox=\"0 -960 960 960\">\n",
              "    <path d=\"M120-120v-720h720v720H120Zm60-500h600v-160H180v160Zm220 220h160v-160H400v160Zm0 220h160v-160H400v160ZM180-400h160v-160H180v160Zm440 0h160v-160H620v160ZM180-180h160v-160H180v160Zm440 0h160v-160H620v160Z\"/>\n",
              "  </svg>\n",
              "    </button>\n",
              "\n",
              "  <style>\n",
              "    .colab-df-container {\n",
              "      display:flex;\n",
              "      gap: 12px;\n",
              "    }\n",
              "\n",
              "    .colab-df-convert {\n",
              "      background-color: #E8F0FE;\n",
              "      border: none;\n",
              "      border-radius: 50%;\n",
              "      cursor: pointer;\n",
              "      display: none;\n",
              "      fill: #1967D2;\n",
              "      height: 32px;\n",
              "      padding: 0 0 0 0;\n",
              "      width: 32px;\n",
              "    }\n",
              "\n",
              "    .colab-df-convert:hover {\n",
              "      background-color: #E2EBFA;\n",
              "      box-shadow: 0px 1px 2px rgba(60, 64, 67, 0.3), 0px 1px 3px 1px rgba(60, 64, 67, 0.15);\n",
              "      fill: #174EA6;\n",
              "    }\n",
              "\n",
              "    .colab-df-buttons div {\n",
              "      margin-bottom: 4px;\n",
              "    }\n",
              "\n",
              "    [theme=dark] .colab-df-convert {\n",
              "      background-color: #3B4455;\n",
              "      fill: #D2E3FC;\n",
              "    }\n",
              "\n",
              "    [theme=dark] .colab-df-convert:hover {\n",
              "      background-color: #434B5C;\n",
              "      box-shadow: 0px 1px 3px 1px rgba(0, 0, 0, 0.15);\n",
              "      filter: drop-shadow(0px 1px 2px rgba(0, 0, 0, 0.3));\n",
              "      fill: #FFFFFF;\n",
              "    }\n",
              "  </style>\n",
              "\n",
              "    <script>\n",
              "      const buttonEl =\n",
              "        document.querySelector('#df-0d5bb973-7dd0-4478-9f07-c68f82187c09 button.colab-df-convert');\n",
              "      buttonEl.style.display =\n",
              "        google.colab.kernel.accessAllowed ? 'block' : 'none';\n",
              "\n",
              "      async function convertToInteractive(key) {\n",
              "        const element = document.querySelector('#df-0d5bb973-7dd0-4478-9f07-c68f82187c09');\n",
              "        const dataTable =\n",
              "          await google.colab.kernel.invokeFunction('convertToInteractive',\n",
              "                                                    [key], {});\n",
              "        if (!dataTable) return;\n",
              "\n",
              "        const docLinkHtml = 'Like what you see? Visit the ' +\n",
              "          '<a target=\"_blank\" href=https://colab.research.google.com/notebooks/data_table.ipynb>data table notebook</a>'\n",
              "          + ' to learn more about interactive tables.';\n",
              "        element.innerHTML = '';\n",
              "        dataTable['output_type'] = 'display_data';\n",
              "        await google.colab.output.renderOutput(dataTable, element);\n",
              "        const docLink = document.createElement('div');\n",
              "        docLink.innerHTML = docLinkHtml;\n",
              "        element.appendChild(docLink);\n",
              "      }\n",
              "    </script>\n",
              "  </div>\n",
              "\n",
              "\n",
              "<div id=\"df-ecf94c2c-e821-4fbf-b481-464f559c432b\">\n",
              "  <button class=\"colab-df-quickchart\" onclick=\"quickchart('df-ecf94c2c-e821-4fbf-b481-464f559c432b')\"\n",
              "            title=\"Suggest charts\"\n",
              "            style=\"display:none;\">\n",
              "\n",
              "<svg xmlns=\"http://www.w3.org/2000/svg\" height=\"24px\"viewBox=\"0 0 24 24\"\n",
              "     width=\"24px\">\n",
              "    <g>\n",
              "        <path d=\"M19 3H5c-1.1 0-2 .9-2 2v14c0 1.1.9 2 2 2h14c1.1 0 2-.9 2-2V5c0-1.1-.9-2-2-2zM9 17H7v-7h2v7zm4 0h-2V7h2v10zm4 0h-2v-4h2v4z\"/>\n",
              "    </g>\n",
              "</svg>\n",
              "  </button>\n",
              "\n",
              "<style>\n",
              "  .colab-df-quickchart {\n",
              "      --bg-color: #E8F0FE;\n",
              "      --fill-color: #1967D2;\n",
              "      --hover-bg-color: #E2EBFA;\n",
              "      --hover-fill-color: #174EA6;\n",
              "      --disabled-fill-color: #AAA;\n",
              "      --disabled-bg-color: #DDD;\n",
              "  }\n",
              "\n",
              "  [theme=dark] .colab-df-quickchart {\n",
              "      --bg-color: #3B4455;\n",
              "      --fill-color: #D2E3FC;\n",
              "      --hover-bg-color: #434B5C;\n",
              "      --hover-fill-color: #FFFFFF;\n",
              "      --disabled-bg-color: #3B4455;\n",
              "      --disabled-fill-color: #666;\n",
              "  }\n",
              "\n",
              "  .colab-df-quickchart {\n",
              "    background-color: var(--bg-color);\n",
              "    border: none;\n",
              "    border-radius: 50%;\n",
              "    cursor: pointer;\n",
              "    display: none;\n",
              "    fill: var(--fill-color);\n",
              "    height: 32px;\n",
              "    padding: 0;\n",
              "    width: 32px;\n",
              "  }\n",
              "\n",
              "  .colab-df-quickchart:hover {\n",
              "    background-color: var(--hover-bg-color);\n",
              "    box-shadow: 0 1px 2px rgba(60, 64, 67, 0.3), 0 1px 3px 1px rgba(60, 64, 67, 0.15);\n",
              "    fill: var(--button-hover-fill-color);\n",
              "  }\n",
              "\n",
              "  .colab-df-quickchart-complete:disabled,\n",
              "  .colab-df-quickchart-complete:disabled:hover {\n",
              "    background-color: var(--disabled-bg-color);\n",
              "    fill: var(--disabled-fill-color);\n",
              "    box-shadow: none;\n",
              "  }\n",
              "\n",
              "  .colab-df-spinner {\n",
              "    border: 2px solid var(--fill-color);\n",
              "    border-color: transparent;\n",
              "    border-bottom-color: var(--fill-color);\n",
              "    animation:\n",
              "      spin 1s steps(1) infinite;\n",
              "  }\n",
              "\n",
              "  @keyframes spin {\n",
              "    0% {\n",
              "      border-color: transparent;\n",
              "      border-bottom-color: var(--fill-color);\n",
              "      border-left-color: var(--fill-color);\n",
              "    }\n",
              "    20% {\n",
              "      border-color: transparent;\n",
              "      border-left-color: var(--fill-color);\n",
              "      border-top-color: var(--fill-color);\n",
              "    }\n",
              "    30% {\n",
              "      border-color: transparent;\n",
              "      border-left-color: var(--fill-color);\n",
              "      border-top-color: var(--fill-color);\n",
              "      border-right-color: var(--fill-color);\n",
              "    }\n",
              "    40% {\n",
              "      border-color: transparent;\n",
              "      border-right-color: var(--fill-color);\n",
              "      border-top-color: var(--fill-color);\n",
              "    }\n",
              "    60% {\n",
              "      border-color: transparent;\n",
              "      border-right-color: var(--fill-color);\n",
              "    }\n",
              "    80% {\n",
              "      border-color: transparent;\n",
              "      border-right-color: var(--fill-color);\n",
              "      border-bottom-color: var(--fill-color);\n",
              "    }\n",
              "    90% {\n",
              "      border-color: transparent;\n",
              "      border-bottom-color: var(--fill-color);\n",
              "    }\n",
              "  }\n",
              "</style>\n",
              "\n",
              "  <script>\n",
              "    async function quickchart(key) {\n",
              "      const quickchartButtonEl =\n",
              "        document.querySelector('#' + key + ' button');\n",
              "      quickchartButtonEl.disabled = true;  // To prevent multiple clicks.\n",
              "      quickchartButtonEl.classList.add('colab-df-spinner');\n",
              "      try {\n",
              "        const charts = await google.colab.kernel.invokeFunction(\n",
              "            'suggestCharts', [key], {});\n",
              "      } catch (error) {\n",
              "        console.error('Error during call to suggestCharts:', error);\n",
              "      }\n",
              "      quickchartButtonEl.classList.remove('colab-df-spinner');\n",
              "      quickchartButtonEl.classList.add('colab-df-quickchart-complete');\n",
              "    }\n",
              "    (() => {\n",
              "      let quickchartButtonEl =\n",
              "        document.querySelector('#df-ecf94c2c-e821-4fbf-b481-464f559c432b button');\n",
              "      quickchartButtonEl.style.display =\n",
              "        google.colab.kernel.accessAllowed ? 'block' : 'none';\n",
              "    })();\n",
              "  </script>\n",
              "</div>\n",
              "\n",
              "  <div id=\"id_6da6a34e-23f1-4c0b-81b9-c3f76dca4eed\">\n",
              "    <style>\n",
              "      .colab-df-generate {\n",
              "        background-color: #E8F0FE;\n",
              "        border: none;\n",
              "        border-radius: 50%;\n",
              "        cursor: pointer;\n",
              "        display: none;\n",
              "        fill: #1967D2;\n",
              "        height: 32px;\n",
              "        padding: 0 0 0 0;\n",
              "        width: 32px;\n",
              "      }\n",
              "\n",
              "      .colab-df-generate:hover {\n",
              "        background-color: #E2EBFA;\n",
              "        box-shadow: 0px 1px 2px rgba(60, 64, 67, 0.3), 0px 1px 3px 1px rgba(60, 64, 67, 0.15);\n",
              "        fill: #174EA6;\n",
              "      }\n",
              "\n",
              "      [theme=dark] .colab-df-generate {\n",
              "        background-color: #3B4455;\n",
              "        fill: #D2E3FC;\n",
              "      }\n",
              "\n",
              "      [theme=dark] .colab-df-generate:hover {\n",
              "        background-color: #434B5C;\n",
              "        box-shadow: 0px 1px 3px 1px rgba(0, 0, 0, 0.15);\n",
              "        filter: drop-shadow(0px 1px 2px rgba(0, 0, 0, 0.3));\n",
              "        fill: #FFFFFF;\n",
              "      }\n",
              "    </style>\n",
              "    <button class=\"colab-df-generate\" onclick=\"generateWithVariable('hellaswag_df_sample')\"\n",
              "            title=\"Generate code using this dataframe.\"\n",
              "            style=\"display:none;\">\n",
              "\n",
              "  <svg xmlns=\"http://www.w3.org/2000/svg\" height=\"24px\"viewBox=\"0 0 24 24\"\n",
              "       width=\"24px\">\n",
              "    <path d=\"M7,19H8.4L18.45,9,17,7.55,7,17.6ZM5,21V16.75L18.45,3.32a2,2,0,0,1,2.83,0l1.4,1.43a1.91,1.91,0,0,1,.58,1.4,1.91,1.91,0,0,1-.58,1.4L9.25,21ZM18.45,9,17,7.55Zm-12,3A5.31,5.31,0,0,0,4.9,8.1,5.31,5.31,0,0,0,1,6.5,5.31,5.31,0,0,0,4.9,4.9,5.31,5.31,0,0,0,6.5,1,5.31,5.31,0,0,0,8.1,4.9,5.31,5.31,0,0,0,12,6.5,5.46,5.46,0,0,0,6.5,12Z\"/>\n",
              "  </svg>\n",
              "    </button>\n",
              "    <script>\n",
              "      (() => {\n",
              "      const buttonEl =\n",
              "        document.querySelector('#id_6da6a34e-23f1-4c0b-81b9-c3f76dca4eed button.colab-df-generate');\n",
              "      buttonEl.style.display =\n",
              "        google.colab.kernel.accessAllowed ? 'block' : 'none';\n",
              "\n",
              "      buttonEl.onclick = () => {\n",
              "        google.colab.notebook.generateWithVariable('hellaswag_df_sample');\n",
              "      }\n",
              "      })();\n",
              "    </script>\n",
              "  </div>\n",
              "\n",
              "    </div>\n",
              "  </div>\n"
            ]
          },
          "metadata": {}
        }
      ]
    },
    {
      "cell_type": "code",
      "source": [
        "test_strings = hellaswag_df_sample.apply(prompt_hellaswag, axis=1).to_list()\n",
        "predictions = []\n",
        "for test in test_strings:\n",
        "  input_ids = tokenizer(test, return_tensors=\"pt\").input_ids.to('cuda')\n",
        "\n",
        "  generation_output = model.generate(\n",
        "      input_ids=input_ids, max_new_tokens=1\n",
        "  )\n",
        "  predictions.append(tokenizer.decode(generation_output[0]))"
      ],
      "metadata": {
        "id": "ElEBWuOKB81d"
      },
      "execution_count": null,
      "outputs": []
    },
    {
      "cell_type": "code",
      "source": [
        "for i in range(len(predictions)):\n",
        "  display_markdown('## Example {}'.format(i), raw=True)\n",
        "  print(predictions[i])\n",
        "  print()\n",
        "  display_markdown('### Answer: ', raw=True)\n",
        "  print(predictions[i][-1:])\n",
        "  print()\n",
        "  display_markdown('### Truth: ', raw=True)\n",
        "  label_idx = int(hellaswag_df_sample.iloc[i].label)\n",
        "  print('ABCD'[label_idx])\n",
        "  display_markdown('---', raw=True)\n"
      ],
      "metadata": {
        "colab": {
          "base_uri": "https://localhost:8080/",
          "height": 1000
        },
        "id": "UEyUMfdED8Xu",
        "outputId": "a4a53f2b-eada-4484-dd4f-9d9408927e4f"
      },
      "execution_count": null,
      "outputs": [
        {
          "output_type": "display_data",
          "data": {
            "text/markdown": "## Example 0"
          },
          "metadata": {}
        },
        {
          "output_type": "stream",
          "name": "stdout",
          "text": [
            "<s>Context: header How to get perfect eyebrows title Find the place where your brows should begin. step Finding just the right spot for your inner brows to start is key to creating perfect brows, since starting too far in could throw off the balance of your face. To figure out where your inner brows should start, use the following technique : substeps As a general starting point, take a pencil or other long, thin instrument and line it up with the inside corner of your eye.\n",
            "Question: Which ending makes the most sense?\n",
            "Endings:\n",
            "A. It should create a slight curve out the corner. Lower it back into position and not over your eyes.\n",
            "B. The place where the instrument overlaps your brow is where it should begin. Mark the spot by making a dot there with an eyeliner pencil.\n",
            "C. Measure the length of your inner brow and the width of your outer brow. Make sure it is inside the outer portion of your eye.\n",
            "D. Draw a dot just above or just above the inner corner of your eye. Make sure that the lines cross a little bit above or below your eyebrows.\n",
            "You may choose from 'A', 'B', 'C', 'D'.\n",
            "Answer: C\n",
            "\n"
          ]
        },
        {
          "output_type": "display_data",
          "data": {
            "text/markdown": "### Answer: "
          },
          "metadata": {}
        },
        {
          "output_type": "stream",
          "name": "stdout",
          "text": [
            "C\n",
            "\n"
          ]
        },
        {
          "output_type": "display_data",
          "data": {
            "text/markdown": "### Truth: "
          },
          "metadata": {}
        },
        {
          "output_type": "stream",
          "name": "stdout",
          "text": [
            "B\n"
          ]
        },
        {
          "output_type": "display_data",
          "data": {
            "text/markdown": "---"
          },
          "metadata": {}
        },
        {
          "output_type": "display_data",
          "data": {
            "text/markdown": "## Example 1"
          },
          "metadata": {}
        },
        {
          "output_type": "stream",
          "name": "stdout",
          "text": [
            "<s>Context: header How to make french knot easy way hair style title Work with second day hair. step While some hairstyles may work best with freshly washed, perfectly clean hair, the french knot actually works best with slightly dirty hair. When hair is immaculately clean, it's often silky and hard to hold in place.\n",
            "Question: Which ending makes the most sense?\n",
            "Endings:\n",
            "A. Therefore, it is important to make sure to not pull to create frizz before styling. substeps Instead, prioritize washing hair at the end of every day instead of just when you wake up to style.\n",
            "B. While satin hair is often nice, it will slide out of your pins and the hairstyle won't hold for the entire day. Hair that hasn't been washed in a day or two will be full of natural oils that will help you create a shape that stays.\n",
            "C. substeps To begin with, you'll have some hair in the french knot. Start by getting some hair out of the french knot.\n",
            "D. For this reason, french knot style hair will be missing hair that was washed in the shower. substeps French knot styles with dirty hair often won't work with last day hair, because the paint will be absorbed by it and it will absorb into the wet hair.\n",
            "You may choose from 'A', 'B', 'C', 'D'.\n",
            "Answer: B\n",
            "\n"
          ]
        },
        {
          "output_type": "display_data",
          "data": {
            "text/markdown": "### Answer: "
          },
          "metadata": {}
        },
        {
          "output_type": "stream",
          "name": "stdout",
          "text": [
            "B\n",
            "\n"
          ]
        },
        {
          "output_type": "display_data",
          "data": {
            "text/markdown": "### Truth: "
          },
          "metadata": {}
        },
        {
          "output_type": "stream",
          "name": "stdout",
          "text": [
            "B\n"
          ]
        },
        {
          "output_type": "display_data",
          "data": {
            "text/markdown": "---"
          },
          "metadata": {}
        },
        {
          "output_type": "display_data",
          "data": {
            "text/markdown": "## Example 2"
          },
          "metadata": {}
        },
        {
          "output_type": "stream",
          "name": "stdout",
          "text": [
            "<s>Context: The person puts a new belt on the machine. The person sharpents the blade on the second belt. The person takes the second belt off. the person\n",
            "Question: Which ending makes the most sense?\n",
            "Endings:\n",
            "A. removes the f * * king wheelie and chains the things up.\n",
            "B. puts the sword back on the machine.\n",
            "C. puts on a third belt.\n",
            "D. removes the belt and smooths out the new belt.\n",
            "You may choose from 'A', 'B', 'C', 'D'.\n",
            "Answer: C\n",
            "\n"
          ]
        },
        {
          "output_type": "display_data",
          "data": {
            "text/markdown": "### Answer: "
          },
          "metadata": {}
        },
        {
          "output_type": "stream",
          "name": "stdout",
          "text": [
            "C\n",
            "\n"
          ]
        },
        {
          "output_type": "display_data",
          "data": {
            "text/markdown": "### Truth: "
          },
          "metadata": {}
        },
        {
          "output_type": "stream",
          "name": "stdout",
          "text": [
            "C\n"
          ]
        },
        {
          "output_type": "display_data",
          "data": {
            "text/markdown": "---"
          },
          "metadata": {}
        },
        {
          "output_type": "display_data",
          "data": {
            "text/markdown": "## Example 3"
          },
          "metadata": {}
        },
        {
          "output_type": "stream",
          "name": "stdout",
          "text": [
            "<s>Context: header How to plan your own funeral title Make a list of your likes and dislikes. step Take out a pen and some paper and begin brainstorming ideas regarding your funeral. Write down whatever comes to mind, at least at first.\n",
            "Question: Which ending makes the most sense?\n",
            "Endings:\n",
            "A. Then, come up with ideas for different funeral traditions (including : substeps People from different backgrounds a place to put the ashes for the deceased. Did she like listening to her favorite music or watching a movie? People from different religions maybe.\n",
            "B. title Prepare for your funeral by creating a family obituary. step By visiting your funeral home to have them draw up a letter informing you what they wish to say, they can write the letter at bedtime.\n",
            "C. You might include things that you've seen done at other funerals that you though worked well. substeps As you are sketching out ideas, pay attention to the intangibles as well.\n",
            "D. It might be something simple like the experience of sitting on the floor in front of a wall clock or getting the whole room to flood with the sound of ocean waves...whatever you think of. title Begin planning your funeral as soon as you are aware of it happening.\n",
            "You may choose from 'A', 'B', 'C', 'D'.\n",
            "Answer: A\n",
            "\n"
          ]
        },
        {
          "output_type": "display_data",
          "data": {
            "text/markdown": "### Answer: "
          },
          "metadata": {}
        },
        {
          "output_type": "stream",
          "name": "stdout",
          "text": [
            "A\n",
            "\n"
          ]
        },
        {
          "output_type": "display_data",
          "data": {
            "text/markdown": "### Truth: "
          },
          "metadata": {}
        },
        {
          "output_type": "stream",
          "name": "stdout",
          "text": [
            "C\n"
          ]
        },
        {
          "output_type": "display_data",
          "data": {
            "text/markdown": "---"
          },
          "metadata": {}
        },
        {
          "output_type": "display_data",
          "data": {
            "text/markdown": "## Example 4"
          },
          "metadata": {}
        },
        {
          "output_type": "stream",
          "name": "stdout",
          "text": [
            "<s>Context: header How to buy an exercise bike title Estimate how often you will use the bike. step Upright bikes are easy to use and provide great cardiovascular workouts. They work abdominal muscles since you are keeping the body upright, and they offer upper body arm workout.\n",
            "Question: Which ending makes the most sense?\n",
            "Endings:\n",
            "A. title Choose an upright bike for low impact cardio. step A spin bike most closely resembles the \" real \" activity of riding a road bike.\n",
            "B. They get you working less because you are doing cardio. substeps Running is another great way to warm up your lungs and run faster.\n",
            "C. Your bike may not provide the same muscle tone as stationary bikes, but you will run 1-2 miles (3.0 km) of cardio a day. title Read reddit's online workout chapters to learn more.\n",
            "D. You will want to check with your trainer before you begin to ride the bike. You might also want to think about shipping your bike.\n",
            "You may choose from 'A', 'B', 'C', 'D'.\n",
            "Answer: A\n",
            "\n"
          ]
        },
        {
          "output_type": "display_data",
          "data": {
            "text/markdown": "### Answer: "
          },
          "metadata": {}
        },
        {
          "output_type": "stream",
          "name": "stdout",
          "text": [
            "A\n",
            "\n"
          ]
        },
        {
          "output_type": "display_data",
          "data": {
            "text/markdown": "### Truth: "
          },
          "metadata": {}
        },
        {
          "output_type": "stream",
          "name": "stdout",
          "text": [
            "A\n"
          ]
        },
        {
          "output_type": "display_data",
          "data": {
            "text/markdown": "---"
          },
          "metadata": {}
        }
      ]
    },
    {
      "cell_type": "markdown",
      "source": [
        "## 方法二：使用Hugging Face框架"
      ],
      "metadata": {
        "id": "6HHoZpoZyLkG"
      }
    },
    {
      "cell_type": "markdown",
      "source": [
        "### 定义Pipeline"
      ],
      "metadata": {
        "id": "S1UM_89J0kHt"
      }
    },
    {
      "cell_type": "code",
      "source": [
        "from transformers import pipeline"
      ],
      "metadata": {
        "id": "nFMSYoDtyZYr"
      },
      "execution_count": null,
      "outputs": []
    },
    {
      "cell_type": "code",
      "source": [
        "pipe = pipeline('text-generation', model=model, tokenizer=tokenizer)"
      ],
      "metadata": {
        "colab": {
          "base_uri": "https://localhost:8080/"
        },
        "id": "_G3F7u9CyieL",
        "outputId": "1ecbe3fe-2e61-4889-fe94-c0c1507274bf"
      },
      "execution_count": null,
      "outputs": [
        {
          "output_type": "stream",
          "name": "stderr",
          "text": [
            "Xformers is not installed correctly. If you want to use memory_efficient_attention to accelerate training use the following command to install Xformers\n",
            "pip install xformers.\n"
          ]
        }
      ]
    },
    {
      "cell_type": "code",
      "source": [
        "response = pipe(prompt_hellaswag(hellaswag_df.iloc[5809]), max_new_tokens=1)\n",
        "print(response)"
      ],
      "metadata": {
        "colab": {
          "base_uri": "https://localhost:8080/"
        },
        "id": "WoqpiQcrzu7Q",
        "outputId": "e645f178-764a-498e-d75f-f8cad541b7f0"
      },
      "execution_count": null,
      "outputs": [
        {
          "output_type": "stream",
          "name": "stdout",
          "text": [
            "[{'generated_text': \"Context: header How to get perfect eyebrows title Find the place where your brows should begin. step Finding just the right spot for your inner brows to start is key to creating perfect brows, since starting too far in could throw off the balance of your face. To figure out where your inner brows should start, use the following technique : substeps As a general starting point, take a pencil or other long, thin instrument and line it up with the inside corner of your eye.\\nQuestion: Which ending makes the most sense?\\nEndings:\\nA. It should create a slight curve out the corner. Lower it back into position and not over your eyes.\\nB. The place where the instrument overlaps your brow is where it should begin. Mark the spot by making a dot there with an eyeliner pencil.\\nC. Measure the length of your inner brow and the width of your outer brow. Make sure it is inside the outer portion of your eye.\\nD. Draw a dot just above or just above the inner corner of your eye. Make sure that the lines cross a little bit above or below your eyebrows.\\nYou may choose from 'A', 'B', 'C', 'D'.\\nAnswer: C\"}]\n"
          ]
        }
      ]
    },
    {
      "cell_type": "code",
      "source": [
        "response = pipe(\n",
        "    hellaswag_df_sample.apply(prompt_hellaswag, axis=1).to_list(),\n",
        "    max_new_tokens = 1,\n",
        "    return_full_text=False\n",
        ")\n",
        "print(response)"
      ],
      "metadata": {
        "colab": {
          "base_uri": "https://localhost:8080/"
        },
        "id": "vir98fZkz0sU",
        "outputId": "864bc8dd-41a1-4564-b85f-6289bda27dc4"
      },
      "execution_count": null,
      "outputs": [
        {
          "output_type": "stream",
          "name": "stdout",
          "text": [
            "[[{'generated_text': ' C'}], [{'generated_text': ' B'}], [{'generated_text': ' C'}], [{'generated_text': ' A'}], [{'generated_text': ' C'}]]\n"
          ]
        }
      ]
    },
    {
      "cell_type": "markdown",
      "source": [
        "### 定义评估指标"
      ],
      "metadata": {
        "id": "ebRo4TiC0tEX"
      }
    },
    {
      "cell_type": "code",
      "source": [
        "import evaluate\n",
        "accuracy_metric = evaluate.load(\"accuracy\")"
      ],
      "metadata": {
        "id": "FUeTPoxZQdO7"
      },
      "execution_count": null,
      "outputs": []
    },
    {
      "cell_type": "code",
      "source": [
        "def parse_response(response):\n",
        "  ans = response[0]['generated_text'].strip()[0]\n",
        "  return 'ABCD'.find(ans)\n",
        "\n",
        "response = pipe(\n",
        "    hellaswag_df_sample.apply(prompt_hellaswag, axis=1).to_list(),\n",
        "    max_new_tokens = 1,\n",
        "    return_full_text=False,\n",
        ")\n",
        "\n",
        "preferences = hellaswag_df_sample['label'].astype(int).to_list()\n",
        "predictions = [parse_response(r) for r in response]\n",
        "\n",
        "display(preferences)\n",
        "display(predictions)\n",
        "display(accuracy_metric.compute(predictions=predictions, references=preferences))"
      ],
      "metadata": {
        "colab": {
          "base_uri": "https://localhost:8080/",
          "height": 72
        },
        "id": "2S2fr_XSQgH3",
        "outputId": "517dd231-0bda-47e5-a876-204602f3d6fb"
      },
      "execution_count": null,
      "outputs": [
        {
          "output_type": "display_data",
          "data": {
            "text/plain": [
              "[1, 1, 2, 2, 0]"
            ]
          },
          "metadata": {}
        },
        {
          "output_type": "display_data",
          "data": {
            "text/plain": [
              "[2, 1, 2, 0, 2]"
            ]
          },
          "metadata": {}
        },
        {
          "output_type": "display_data",
          "data": {
            "text/plain": [
              "{'accuracy': 0.4}"
            ]
          },
          "metadata": {}
        }
      ]
    },
    {
      "cell_type": "code",
      "source": [
        "metrics = evaluate.combine([\"recall\", \"precision\", \"f1\"])\n",
        "metrics.compute(predictions=predictions, references=preferences, average=\"macro\")"
      ],
      "metadata": {
        "colab": {
          "base_uri": "https://localhost:8080/"
        },
        "id": "dfybucz8SOVr",
        "outputId": "180bb992-4dcb-4ebd-e468-ad8bb2eb5f15"
      },
      "execution_count": null,
      "outputs": [
        {
          "output_type": "execute_result",
          "data": {
            "text/plain": [
              "{'recall': 0.3333333333333333,\n",
              " 'precision': 0.4444444444444444,\n",
              " 'f1': 0.35555555555555557}"
            ]
          },
          "metadata": {},
          "execution_count": 32
        }
      ]
    },
    {
      "cell_type": "markdown",
      "source": [
        "## 方法三：使用第三方库"
      ],
      "metadata": {
        "id": "rXvkHRdz4jtZ"
      }
    },
    {
      "cell_type": "code",
      "source": [
        "import evaluate"
      ],
      "metadata": {
        "id": "fhQWpAvf4j9D"
      },
      "execution_count": null,
      "outputs": []
    },
    {
      "cell_type": "code",
      "source": [
        "suite = evaluate.EvaluationSuite.load(\"SUSTech/tlem\")\n",
        "display(suite.supported_datasets)\n",
        "suite.load(\"hellaswag\")  # You can check the available datasets by suite.supported_datasets\n"
      ],
      "metadata": {
        "colab": {
          "base_uri": "https://localhost:8080/",
          "height": 201
        },
        "id": "G6NAtScA5DrY",
        "outputId": "faf08bfc-0c46-4483-934d-7a5cf4be69df"
      },
      "execution_count": null,
      "outputs": [
        {
          "output_type": "display_data",
          "data": {
            "text/plain": [
              "['arc',\n",
              " 'hellaswag',\n",
              " 'mmlu-chat',\n",
              " 'winogrande',\n",
              " 'gsm8k',\n",
              " 'cmmlu-chat',\n",
              " 'ceval-chat',\n",
              " 'bbh',\n",
              " 'drop',\n",
              " 'MATH']"
            ]
          },
          "metadata": {}
        }
      ]
    },
    {
      "cell_type": "code",
      "source": [
        "@suite.utils.sync_pipe\n",
        "def predict(msg):\n",
        "  input_ids = tokenizer(msg, return_tensors=\"pt\").input_ids.to('cuda')\n",
        "  generation_output = model.generate(\n",
        "      input_ids=input_ids, max_new_tokens=1\n",
        "  )\n",
        "  prediction = tokenizer.decode(generation_output[0])\n",
        "  return prediction[-1:]\n"
      ],
      "metadata": {
        "id": "awgZtv705QfB"
      },
      "execution_count": null,
      "outputs": []
    },
    {
      "cell_type": "code",
      "source": [
        "suite.run(predict)"
      ],
      "metadata": {
        "colab": {
          "base_uri": "https://localhost:8080/",
          "height": 220,
          "referenced_widgets": [
            "15e9fa41985f4319b1b0d2f9767c53fc",
            "71572d384c384b1b88347629aa5e406d",
            "4c929ff5a02e4226bd7c1f55e27a0baa",
            "4c45d5bd5d47443ab91b877627cc680c",
            "e638aaca33964b569aded31df61fc200",
            "b2442aaec92540d98f44e147302a4aa2",
            "07cd7aff73494223b1cab3efd5258217",
            "78807e2ad3e141bfa7fb7382bd9e3331",
            "6e121222f495446eb3e76b3b41724474",
            "13f4e1cfbf644f0496de050d3d5b84fb",
            "a312ede2eadd4f23bcafbd1eebbd9281",
            "d204075d20114c72b3bf424a5e28614d",
            "ab604f020a3046fb91ca652fb091f4a9",
            "24311976beee4462932d10d3ec75c429",
            "dfa70532b1524ffeb22b305938078517",
            "3ca1a1dc576344bfb6e6a5bdf3b34382",
            "ae4eaa522d9b47f0a573313184f77fba",
            "12b092dd0c6747a18c51a8669b218b8a",
            "d3cf288e84ba4470a7b8a9a498b66237",
            "2bf649e4062f478a8331b47410ac1873",
            "9bcfe9084f644123b90b956166defbab",
            "2414a07e29ff4eaba2e068cb63d971fe",
            "b480f3753fe64f11a1c84ba53806f824",
            "1d3a641792424901b4d024997f420eff",
            "e60f05bfcdd749adac7ff712c72cdf6c",
            "eb7634ad08b6475a95e23be542781bfa",
            "a10e262762d74c51858071a3f0fd4b08",
            "0cda843b86424b438dae35a4ccf212ec",
            "a2151de9c80d4425b9117fba1b075f7f",
            "87eba6c17af74c779c8fee6da1a3b8c6",
            "f90194aeb16a446d8332669c65d3af90",
            "b3310437c0014806beea6f183dc8a7eb",
            "94b8169f57d643cb8dcf586efe7abe8b",
            "6ac08cd89d504a69a8c46d0ae0278cca",
            "487ddfe58b7a475a8e1555d406a7b1a9",
            "16ee3f6ac7dd42e89f59aeb2178ed29f",
            "8810abb9c3f9455aa5be75c5e606b339",
            "d7af185d2c9e412a8e459144400fe725",
            "60c6380b754747a39dc86b7e13cc8d4d",
            "11a5745d58654442b70cf41253c2a2fe",
            "8d72c3e5745a4b7c9a0f82f46df9b8e5",
            "d9c42f95a42d438e8a365fb4dd49427e",
            "2ea89eb6fa6a43f6aa84b4392ce96880",
            "49a9143db5f744e9b8c1b59b1892aff0"
          ]
        },
        "id": "bhvxNhg-6G9I",
        "outputId": "fba09f28-bda6-48fb-a954-d834428b501d"
      },
      "execution_count": null,
      "outputs": [
        {
          "output_type": "display_data",
          "data": {
            "text/plain": [
              "  0%|          | 0/1 [00:00<?, ?it/s]"
            ],
            "application/vnd.jupyter.widget-view+json": {
              "version_major": 2,
              "version_minor": 0,
              "model_id": "15e9fa41985f4319b1b0d2f9767c53fc"
            }
          },
          "metadata": {}
        },
        {
          "output_type": "stream",
          "name": "stdout",
          "text": [
            "Downloading and preparing dataset hellaswag/validation to /root/.cache/huggingface/datasets/Rowan___hellaswag/validation/0.1.0/512a66dd8b1b1643ab4a48aa4f150d04c91680da6a4096498a5e5f799623d5ae...\n",
            "Dataset hellaswag downloaded and prepared to /root/.cache/huggingface/datasets/Rowan___hellaswag/validation/0.1.0/512a66dd8b1b1643ab4a48aa4f150d04c91680da6a4096498a5e5f799623d5ae. Subsequent calls will reuse this data.\n"
          ]
        },
        {
          "output_type": "display_data",
          "data": {
            "text/plain": [
              "Downloading builder script:   0%|          | 0.00/7.93k [00:00<?, ?B/s]"
            ],
            "application/vnd.jupyter.widget-view+json": {
              "version_major": 2,
              "version_minor": 0,
              "model_id": "d204075d20114c72b3bf424a5e28614d"
            }
          },
          "metadata": {}
        },
        {
          "output_type": "display_data",
          "data": {
            "text/plain": [
              "Downloading extra modules:   0%|          | 0.00/39.0k [00:00<?, ?B/s]"
            ],
            "application/vnd.jupyter.widget-view+json": {
              "version_major": 2,
              "version_minor": 0,
              "model_id": "b480f3753fe64f11a1c84ba53806f824"
            }
          },
          "metadata": {}
        },
        {
          "output_type": "display_data",
          "data": {
            "text/plain": [
              "Downloading extra modules:   0%|          | 0.00/83.7k [00:00<?, ?B/s]"
            ],
            "application/vnd.jupyter.widget-view+json": {
              "version_major": 2,
              "version_minor": 0,
              "model_id": "6ac08cd89d504a69a8c46d0ae0278cca"
            }
          },
          "metadata": {}
        },
        {
          "output_type": "execute_result",
          "data": {
            "text/plain": [
              "{'hellaswag': defaultdict(list, {'validation': 0.16351324437363074})}"
            ]
          },
          "metadata": {},
          "execution_count": 70
        }
      ]
    }
  ]
}